{
  "nbformat": 4,
  "nbformat_minor": 0,
  "metadata": {
    "colab": {
      "provenance": [],
      "gpuType": "T4"
    },
    "kernelspec": {
      "name": "python3",
      "display_name": "Python 3"
    },
    "language_info": {
      "name": "python"
    },
    "accelerator": "GPU"
  },
  "cells": [
    {
      "cell_type": "code",
      "source": [
        "!pip install kaggle"
      ],
      "metadata": {
        "colab": {
          "base_uri": "https://localhost:8080/"
        },
        "id": "61SD5nz8hVDp",
        "outputId": "0d245ba5-465d-4cce-c16a-c3e06a4c4583"
      },
      "execution_count": null,
      "outputs": [
        {
          "output_type": "stream",
          "name": "stdout",
          "text": [
            "Requirement already satisfied: kaggle in /usr/local/lib/python3.10/dist-packages (1.6.17)\n",
            "Requirement already satisfied: six>=1.10 in /usr/local/lib/python3.10/dist-packages (from kaggle) (1.16.0)\n",
            "Requirement already satisfied: certifi>=2023.7.22 in /usr/local/lib/python3.10/dist-packages (from kaggle) (2024.8.30)\n",
            "Requirement already satisfied: python-dateutil in /usr/local/lib/python3.10/dist-packages (from kaggle) (2.8.2)\n",
            "Requirement already satisfied: requests in /usr/local/lib/python3.10/dist-packages (from kaggle) (2.32.3)\n",
            "Requirement already satisfied: tqdm in /usr/local/lib/python3.10/dist-packages (from kaggle) (4.66.5)\n",
            "Requirement already satisfied: python-slugify in /usr/local/lib/python3.10/dist-packages (from kaggle) (8.0.4)\n",
            "Requirement already satisfied: urllib3 in /usr/local/lib/python3.10/dist-packages (from kaggle) (2.2.3)\n",
            "Requirement already satisfied: bleach in /usr/local/lib/python3.10/dist-packages (from kaggle) (6.1.0)\n",
            "Requirement already satisfied: webencodings in /usr/local/lib/python3.10/dist-packages (from bleach->kaggle) (0.5.1)\n",
            "Requirement already satisfied: text-unidecode>=1.3 in /usr/local/lib/python3.10/dist-packages (from python-slugify->kaggle) (1.3)\n",
            "Requirement already satisfied: charset-normalizer<4,>=2 in /usr/local/lib/python3.10/dist-packages (from requests->kaggle) (3.4.0)\n",
            "Requirement already satisfied: idna<4,>=2.5 in /usr/local/lib/python3.10/dist-packages (from requests->kaggle) (3.10)\n"
          ]
        }
      ]
    },
    {
      "cell_type": "code",
      "source": [
        "import pandas as pd\n",
        "import numpy as np\n",
        "from matplotlib import pyplot as plt\n",
        "import seaborn as sns"
      ],
      "metadata": {
        "id": "fy18XXJpiCmc"
      },
      "execution_count": null,
      "outputs": []
    },
    {
      "cell_type": "code",
      "source": [
        "from sklearn.feature_extraction.text import TfidfVectorizer\n",
        "from sklearn.feature_extraction.text import CountVectorizer\n",
        "from nltk.corpus import stopwords\n",
        "from nltk.stem import PorterStemmer\n",
        "from wordcloud import WordCloud, STOPWORDS\n",
        "import string\n",
        "import re\n"
      ],
      "metadata": {
        "id": "P-6LAVZsihsK"
      },
      "execution_count": null,
      "outputs": []
    },
    {
      "cell_type": "code",
      "source": [
        "from sklearn.model_selection import train_test_split\n",
        "from sklearn.preprocessing import LabelEncoder\n",
        "from sklearn.metrics import accuracy_score, confusion_matrix\n",
        "from sklearn.linear_model import LogisticRegression\n",
        "from sklearn.naive_bayes import MultinomialNB\n"
      ],
      "metadata": {
        "id": "9bE8HV8tij76"
      },
      "execution_count": null,
      "outputs": []
    },
    {
      "cell_type": "code",
      "source": [
        "!pip install kaggle\n"
      ],
      "metadata": {
        "colab": {
          "base_uri": "https://localhost:8080/"
        },
        "id": "m6Jo4xduimMR",
        "outputId": "014c9146-d4ab-4931-eecc-5d88ab5264dc"
      },
      "execution_count": null,
      "outputs": [
        {
          "output_type": "stream",
          "name": "stdout",
          "text": [
            "Requirement already satisfied: kaggle in /usr/local/lib/python3.10/dist-packages (1.6.17)\n",
            "Requirement already satisfied: six>=1.10 in /usr/local/lib/python3.10/dist-packages (from kaggle) (1.16.0)\n",
            "Requirement already satisfied: certifi>=2023.7.22 in /usr/local/lib/python3.10/dist-packages (from kaggle) (2024.8.30)\n",
            "Requirement already satisfied: python-dateutil in /usr/local/lib/python3.10/dist-packages (from kaggle) (2.8.2)\n",
            "Requirement already satisfied: requests in /usr/local/lib/python3.10/dist-packages (from kaggle) (2.32.3)\n",
            "Requirement already satisfied: tqdm in /usr/local/lib/python3.10/dist-packages (from kaggle) (4.66.5)\n",
            "Requirement already satisfied: python-slugify in /usr/local/lib/python3.10/dist-packages (from kaggle) (8.0.4)\n",
            "Requirement already satisfied: urllib3 in /usr/local/lib/python3.10/dist-packages (from kaggle) (2.2.3)\n",
            "Requirement already satisfied: bleach in /usr/local/lib/python3.10/dist-packages (from kaggle) (6.1.0)\n",
            "Requirement already satisfied: webencodings in /usr/local/lib/python3.10/dist-packages (from bleach->kaggle) (0.5.1)\n",
            "Requirement already satisfied: text-unidecode>=1.3 in /usr/local/lib/python3.10/dist-packages (from python-slugify->kaggle) (1.3)\n",
            "Requirement already satisfied: charset-normalizer<4,>=2 in /usr/local/lib/python3.10/dist-packages (from requests->kaggle) (3.4.0)\n",
            "Requirement already satisfied: idna<4,>=2.5 in /usr/local/lib/python3.10/dist-packages (from requests->kaggle) (3.10)\n"
          ]
        }
      ]
    },
    {
      "cell_type": "code",
      "source": [
        "!mkdir -p ~/.kaggle\n"
      ],
      "metadata": {
        "id": "Kv1WDm01jKZC"
      },
      "execution_count": null,
      "outputs": []
    },
    {
      "cell_type": "code",
      "source": [
        "!cp kaggle.json ~/.kaggle/"
      ],
      "metadata": {
        "id": "fTrE5NtpjO86",
        "colab": {
          "base_uri": "https://localhost:8080/"
        },
        "outputId": "2fbbf7dc-d6aa-486e-bc6a-4324b4cfb527"
      },
      "execution_count": null,
      "outputs": [
        {
          "output_type": "stream",
          "name": "stdout",
          "text": [
            "cp: cannot stat 'kaggle.json': No such file or directory\n"
          ]
        }
      ]
    },
    {
      "cell_type": "code",
      "source": [
        "!chmod 600 ~/.kaggle/kaggle.json"
      ],
      "metadata": {
        "id": "5UiRmtkPjQhY",
        "colab": {
          "base_uri": "https://localhost:8080/"
        },
        "outputId": "1f4f7149-1167-4e72-fe76-fc57ef4dde3a"
      },
      "execution_count": null,
      "outputs": [
        {
          "output_type": "stream",
          "name": "stdout",
          "text": [
            "chmod: cannot access '/root/.kaggle/kaggle.json': No such file or directory\n"
          ]
        }
      ]
    },
    {
      "cell_type": "code",
      "source": [
        "!kaggle datasets download -d niraliivaghani/flipkart-dataset\n"
      ],
      "metadata": {
        "colab": {
          "base_uri": "https://localhost:8080/"
        },
        "id": "XLjlIYGmjSow",
        "outputId": "2da51e41-46c5-4cd7-a099-7dd40c56b16b"
      },
      "execution_count": null,
      "outputs": [
        {
          "output_type": "stream",
          "name": "stdout",
          "text": [
            "Dataset URL: https://www.kaggle.com/datasets/niraliivaghani/flipkart-dataset\n",
            "License(s): ODbL-1.0\n",
            "Downloading flipkart-dataset.zip to /content\n",
            " 64% 5.00M/7.85M [00:00<00:00, 37.4MB/s]\n",
            "100% 7.85M/7.85M [00:00<00:00, 52.5MB/s]\n"
          ]
        }
      ]
    },
    {
      "cell_type": "code",
      "source": [
        "!unzip /content/flipkart-dataset.zip -d /content/flipkart-dataset\n",
        "\n"
      ],
      "metadata": {
        "colab": {
          "base_uri": "https://localhost:8080/"
        },
        "id": "oRu7nFiSjUeZ",
        "outputId": "c0b568f8-3b93-4c0f-c40c-afa50c0cdd08"
      },
      "execution_count": null,
      "outputs": [
        {
          "output_type": "stream",
          "name": "stdout",
          "text": [
            "Archive:  /content/flipkart-dataset.zip\n",
            "  inflating: /content/flipkart-dataset/Dataset.csv  \n"
          ]
        }
      ]
    },
    {
      "cell_type": "code",
      "source": [
        "df = pd.read_csv('/content/flipkart-dataset/Dataset.csv', encoding='ISO-8859-1')\n",
        "\n"
      ],
      "metadata": {
        "colab": {
          "base_uri": "https://localhost:8080/"
        },
        "id": "CR2_6DndjXSo",
        "outputId": "bcb5f1a4-7f45-4867-ffdc-c137df489a97"
      },
      "execution_count": null,
      "outputs": [
        {
          "output_type": "stream",
          "name": "stderr",
          "text": [
            "<ipython-input-11-e86ae85274e8>:1: DtypeWarning: Columns (2) have mixed types. Specify dtype option on import or set low_memory=False.\n",
            "  df = pd.read_csv('/content/flipkart-dataset/Dataset.csv', encoding='ISO-8859-1')\n"
          ]
        }
      ]
    },
    {
      "cell_type": "code",
      "source": [
        "df.head()"
      ],
      "metadata": {
        "colab": {
          "base_uri": "https://localhost:8080/",
          "height": 293
        },
        "id": "22NPYcMwjqUT",
        "outputId": "1676b9c9-b6bb-4b41-e7da-f85d4f8f3ad2"
      },
      "execution_count": null,
      "outputs": [
        {
          "output_type": "execute_result",
          "data": {
            "text/plain": [
              "                                        Product_name      Price Rate  \\\n",
              "0  Crompton 75 L Desert Air Cooler??(White, Tea...  ??10,499    5   \n",
              "1  Crompton 75 L Desert Air Cooler??(White, Tea...  ??10,499    4   \n",
              "2  Crompton 75 L Desert Air Cooler??(White, Tea...  ??10,499    5   \n",
              "3  Crompton 75 L Desert Air Cooler??(White, Tea...  ??10,499    5   \n",
              "4  Crompton 75 L Desert Air Cooler??(White, Tea...  ??10,499    4   \n",
              "\n",
              "                                              Review  \\\n",
              "0                                     Simply awesome   \n",
              "1  Worth the money . Desert Cooler live up to the...   \n",
              "2                                  Worth every penny   \n",
              "3                                          Fabulous!   \n",
              "4                                       Nice product   \n",
              "\n",
              "                                             Summary  \n",
              "0  it's really worth every single penny. it works...  \n",
              "1  I bought Crompton Ozone 75 Desert Air Cooler i...  \n",
              "2  GREAT packaging by seller. As this was the mos...  \n",
              "3  Delivery was delayed by two days except this e...  \n",
              "4  A Good cooler by Crompton. The height of the c...  "
            ],
            "text/html": [
              "\n",
              "  <div id=\"df-bf235e41-1c5c-4dd9-85eb-006b13ad859f\" class=\"colab-df-container\">\n",
              "    <div>\n",
              "<style scoped>\n",
              "    .dataframe tbody tr th:only-of-type {\n",
              "        vertical-align: middle;\n",
              "    }\n",
              "\n",
              "    .dataframe tbody tr th {\n",
              "        vertical-align: top;\n",
              "    }\n",
              "\n",
              "    .dataframe thead th {\n",
              "        text-align: right;\n",
              "    }\n",
              "</style>\n",
              "<table border=\"1\" class=\"dataframe\">\n",
              "  <thead>\n",
              "    <tr style=\"text-align: right;\">\n",
              "      <th></th>\n",
              "      <th>Product_name</th>\n",
              "      <th>Price</th>\n",
              "      <th>Rate</th>\n",
              "      <th>Review</th>\n",
              "      <th>Summary</th>\n",
              "    </tr>\n",
              "  </thead>\n",
              "  <tbody>\n",
              "    <tr>\n",
              "      <th>0</th>\n",
              "      <td>Crompton 75 L Desert Air Cooler??(White, Tea...</td>\n",
              "      <td>??10,499</td>\n",
              "      <td>5</td>\n",
              "      <td>Simply awesome</td>\n",
              "      <td>it's really worth every single penny. it works...</td>\n",
              "    </tr>\n",
              "    <tr>\n",
              "      <th>1</th>\n",
              "      <td>Crompton 75 L Desert Air Cooler??(White, Tea...</td>\n",
              "      <td>??10,499</td>\n",
              "      <td>4</td>\n",
              "      <td>Worth the money . Desert Cooler live up to the...</td>\n",
              "      <td>I bought Crompton Ozone 75 Desert Air Cooler i...</td>\n",
              "    </tr>\n",
              "    <tr>\n",
              "      <th>2</th>\n",
              "      <td>Crompton 75 L Desert Air Cooler??(White, Tea...</td>\n",
              "      <td>??10,499</td>\n",
              "      <td>5</td>\n",
              "      <td>Worth every penny</td>\n",
              "      <td>GREAT packaging by seller. As this was the mos...</td>\n",
              "    </tr>\n",
              "    <tr>\n",
              "      <th>3</th>\n",
              "      <td>Crompton 75 L Desert Air Cooler??(White, Tea...</td>\n",
              "      <td>??10,499</td>\n",
              "      <td>5</td>\n",
              "      <td>Fabulous!</td>\n",
              "      <td>Delivery was delayed by two days except this e...</td>\n",
              "    </tr>\n",
              "    <tr>\n",
              "      <th>4</th>\n",
              "      <td>Crompton 75 L Desert Air Cooler??(White, Tea...</td>\n",
              "      <td>??10,499</td>\n",
              "      <td>4</td>\n",
              "      <td>Nice product</td>\n",
              "      <td>A Good cooler by Crompton. The height of the c...</td>\n",
              "    </tr>\n",
              "  </tbody>\n",
              "</table>\n",
              "</div>\n",
              "    <div class=\"colab-df-buttons\">\n",
              "\n",
              "  <div class=\"colab-df-container\">\n",
              "    <button class=\"colab-df-convert\" onclick=\"convertToInteractive('df-bf235e41-1c5c-4dd9-85eb-006b13ad859f')\"\n",
              "            title=\"Convert this dataframe to an interactive table.\"\n",
              "            style=\"display:none;\">\n",
              "\n",
              "  <svg xmlns=\"http://www.w3.org/2000/svg\" height=\"24px\" viewBox=\"0 -960 960 960\">\n",
              "    <path d=\"M120-120v-720h720v720H120Zm60-500h600v-160H180v160Zm220 220h160v-160H400v160Zm0 220h160v-160H400v160ZM180-400h160v-160H180v160Zm440 0h160v-160H620v160ZM180-180h160v-160H180v160Zm440 0h160v-160H620v160Z\"/>\n",
              "  </svg>\n",
              "    </button>\n",
              "\n",
              "  <style>\n",
              "    .colab-df-container {\n",
              "      display:flex;\n",
              "      gap: 12px;\n",
              "    }\n",
              "\n",
              "    .colab-df-convert {\n",
              "      background-color: #E8F0FE;\n",
              "      border: none;\n",
              "      border-radius: 50%;\n",
              "      cursor: pointer;\n",
              "      display: none;\n",
              "      fill: #1967D2;\n",
              "      height: 32px;\n",
              "      padding: 0 0 0 0;\n",
              "      width: 32px;\n",
              "    }\n",
              "\n",
              "    .colab-df-convert:hover {\n",
              "      background-color: #E2EBFA;\n",
              "      box-shadow: 0px 1px 2px rgba(60, 64, 67, 0.3), 0px 1px 3px 1px rgba(60, 64, 67, 0.15);\n",
              "      fill: #174EA6;\n",
              "    }\n",
              "\n",
              "    .colab-df-buttons div {\n",
              "      margin-bottom: 4px;\n",
              "    }\n",
              "\n",
              "    [theme=dark] .colab-df-convert {\n",
              "      background-color: #3B4455;\n",
              "      fill: #D2E3FC;\n",
              "    }\n",
              "\n",
              "    [theme=dark] .colab-df-convert:hover {\n",
              "      background-color: #434B5C;\n",
              "      box-shadow: 0px 1px 3px 1px rgba(0, 0, 0, 0.15);\n",
              "      filter: drop-shadow(0px 1px 2px rgba(0, 0, 0, 0.3));\n",
              "      fill: #FFFFFF;\n",
              "    }\n",
              "  </style>\n",
              "\n",
              "    <script>\n",
              "      const buttonEl =\n",
              "        document.querySelector('#df-bf235e41-1c5c-4dd9-85eb-006b13ad859f button.colab-df-convert');\n",
              "      buttonEl.style.display =\n",
              "        google.colab.kernel.accessAllowed ? 'block' : 'none';\n",
              "\n",
              "      async function convertToInteractive(key) {\n",
              "        const element = document.querySelector('#df-bf235e41-1c5c-4dd9-85eb-006b13ad859f');\n",
              "        const dataTable =\n",
              "          await google.colab.kernel.invokeFunction('convertToInteractive',\n",
              "                                                    [key], {});\n",
              "        if (!dataTable) return;\n",
              "\n",
              "        const docLinkHtml = 'Like what you see? Visit the ' +\n",
              "          '<a target=\"_blank\" href=https://colab.research.google.com/notebooks/data_table.ipynb>data table notebook</a>'\n",
              "          + ' to learn more about interactive tables.';\n",
              "        element.innerHTML = '';\n",
              "        dataTable['output_type'] = 'display_data';\n",
              "        await google.colab.output.renderOutput(dataTable, element);\n",
              "        const docLink = document.createElement('div');\n",
              "        docLink.innerHTML = docLinkHtml;\n",
              "        element.appendChild(docLink);\n",
              "      }\n",
              "    </script>\n",
              "  </div>\n",
              "\n",
              "\n",
              "<div id=\"df-d9931c9d-8698-459d-a343-074bbd078f75\">\n",
              "  <button class=\"colab-df-quickchart\" onclick=\"quickchart('df-d9931c9d-8698-459d-a343-074bbd078f75')\"\n",
              "            title=\"Suggest charts\"\n",
              "            style=\"display:none;\">\n",
              "\n",
              "<svg xmlns=\"http://www.w3.org/2000/svg\" height=\"24px\"viewBox=\"0 0 24 24\"\n",
              "     width=\"24px\">\n",
              "    <g>\n",
              "        <path d=\"M19 3H5c-1.1 0-2 .9-2 2v14c0 1.1.9 2 2 2h14c1.1 0 2-.9 2-2V5c0-1.1-.9-2-2-2zM9 17H7v-7h2v7zm4 0h-2V7h2v10zm4 0h-2v-4h2v4z\"/>\n",
              "    </g>\n",
              "</svg>\n",
              "  </button>\n",
              "\n",
              "<style>\n",
              "  .colab-df-quickchart {\n",
              "      --bg-color: #E8F0FE;\n",
              "      --fill-color: #1967D2;\n",
              "      --hover-bg-color: #E2EBFA;\n",
              "      --hover-fill-color: #174EA6;\n",
              "      --disabled-fill-color: #AAA;\n",
              "      --disabled-bg-color: #DDD;\n",
              "  }\n",
              "\n",
              "  [theme=dark] .colab-df-quickchart {\n",
              "      --bg-color: #3B4455;\n",
              "      --fill-color: #D2E3FC;\n",
              "      --hover-bg-color: #434B5C;\n",
              "      --hover-fill-color: #FFFFFF;\n",
              "      --disabled-bg-color: #3B4455;\n",
              "      --disabled-fill-color: #666;\n",
              "  }\n",
              "\n",
              "  .colab-df-quickchart {\n",
              "    background-color: var(--bg-color);\n",
              "    border: none;\n",
              "    border-radius: 50%;\n",
              "    cursor: pointer;\n",
              "    display: none;\n",
              "    fill: var(--fill-color);\n",
              "    height: 32px;\n",
              "    padding: 0;\n",
              "    width: 32px;\n",
              "  }\n",
              "\n",
              "  .colab-df-quickchart:hover {\n",
              "    background-color: var(--hover-bg-color);\n",
              "    box-shadow: 0 1px 2px rgba(60, 64, 67, 0.3), 0 1px 3px 1px rgba(60, 64, 67, 0.15);\n",
              "    fill: var(--button-hover-fill-color);\n",
              "  }\n",
              "\n",
              "  .colab-df-quickchart-complete:disabled,\n",
              "  .colab-df-quickchart-complete:disabled:hover {\n",
              "    background-color: var(--disabled-bg-color);\n",
              "    fill: var(--disabled-fill-color);\n",
              "    box-shadow: none;\n",
              "  }\n",
              "\n",
              "  .colab-df-spinner {\n",
              "    border: 2px solid var(--fill-color);\n",
              "    border-color: transparent;\n",
              "    border-bottom-color: var(--fill-color);\n",
              "    animation:\n",
              "      spin 1s steps(1) infinite;\n",
              "  }\n",
              "\n",
              "  @keyframes spin {\n",
              "    0% {\n",
              "      border-color: transparent;\n",
              "      border-bottom-color: var(--fill-color);\n",
              "      border-left-color: var(--fill-color);\n",
              "    }\n",
              "    20% {\n",
              "      border-color: transparent;\n",
              "      border-left-color: var(--fill-color);\n",
              "      border-top-color: var(--fill-color);\n",
              "    }\n",
              "    30% {\n",
              "      border-color: transparent;\n",
              "      border-left-color: var(--fill-color);\n",
              "      border-top-color: var(--fill-color);\n",
              "      border-right-color: var(--fill-color);\n",
              "    }\n",
              "    40% {\n",
              "      border-color: transparent;\n",
              "      border-right-color: var(--fill-color);\n",
              "      border-top-color: var(--fill-color);\n",
              "    }\n",
              "    60% {\n",
              "      border-color: transparent;\n",
              "      border-right-color: var(--fill-color);\n",
              "    }\n",
              "    80% {\n",
              "      border-color: transparent;\n",
              "      border-right-color: var(--fill-color);\n",
              "      border-bottom-color: var(--fill-color);\n",
              "    }\n",
              "    90% {\n",
              "      border-color: transparent;\n",
              "      border-bottom-color: var(--fill-color);\n",
              "    }\n",
              "  }\n",
              "</style>\n",
              "\n",
              "  <script>\n",
              "    async function quickchart(key) {\n",
              "      const quickchartButtonEl =\n",
              "        document.querySelector('#' + key + ' button');\n",
              "      quickchartButtonEl.disabled = true;  // To prevent multiple clicks.\n",
              "      quickchartButtonEl.classList.add('colab-df-spinner');\n",
              "      try {\n",
              "        const charts = await google.colab.kernel.invokeFunction(\n",
              "            'suggestCharts', [key], {});\n",
              "      } catch (error) {\n",
              "        console.error('Error during call to suggestCharts:', error);\n",
              "      }\n",
              "      quickchartButtonEl.classList.remove('colab-df-spinner');\n",
              "      quickchartButtonEl.classList.add('colab-df-quickchart-complete');\n",
              "    }\n",
              "    (() => {\n",
              "      let quickchartButtonEl =\n",
              "        document.querySelector('#df-d9931c9d-8698-459d-a343-074bbd078f75 button');\n",
              "      quickchartButtonEl.style.display =\n",
              "        google.colab.kernel.accessAllowed ? 'block' : 'none';\n",
              "    })();\n",
              "  </script>\n",
              "</div>\n",
              "\n",
              "    </div>\n",
              "  </div>\n"
            ],
            "application/vnd.google.colaboratory.intrinsic+json": {
              "type": "dataframe",
              "variable_name": "df"
            }
          },
          "metadata": {},
          "execution_count": 12
        }
      ]
    },
    {
      "cell_type": "code",
      "source": [
        "df.shape"
      ],
      "metadata": {
        "colab": {
          "base_uri": "https://localhost:8080/"
        },
        "id": "eztmDw9okhBq",
        "outputId": "ab391cd0-bf70-441b-e46c-86683fad0bf5"
      },
      "execution_count": null,
      "outputs": [
        {
          "output_type": "execute_result",
          "data": {
            "text/plain": [
              "(363261, 5)"
            ]
          },
          "metadata": {},
          "execution_count": 13
        }
      ]
    },
    {
      "cell_type": "code",
      "source": [
        "data1 = df[['Summary', 'Rate']]\n",
        "data1.head()"
      ],
      "metadata": {
        "colab": {
          "base_uri": "https://localhost:8080/",
          "height": 206
        },
        "id": "3FOMKO1Rk3W0",
        "outputId": "582999fa-cf69-4764-fd42-2eb33a08d4d1"
      },
      "execution_count": null,
      "outputs": [
        {
          "output_type": "execute_result",
          "data": {
            "text/plain": [
              "                                             Summary Rate\n",
              "0  it's really worth every single penny. it works...    5\n",
              "1  I bought Crompton Ozone 75 Desert Air Cooler i...    4\n",
              "2  GREAT packaging by seller. As this was the mos...    5\n",
              "3  Delivery was delayed by two days except this e...    5\n",
              "4  A Good cooler by Crompton. The height of the c...    4"
            ],
            "text/html": [
              "\n",
              "  <div id=\"df-6819a1d3-1a21-4b6e-a537-cc260bdb0e8b\" class=\"colab-df-container\">\n",
              "    <div>\n",
              "<style scoped>\n",
              "    .dataframe tbody tr th:only-of-type {\n",
              "        vertical-align: middle;\n",
              "    }\n",
              "\n",
              "    .dataframe tbody tr th {\n",
              "        vertical-align: top;\n",
              "    }\n",
              "\n",
              "    .dataframe thead th {\n",
              "        text-align: right;\n",
              "    }\n",
              "</style>\n",
              "<table border=\"1\" class=\"dataframe\">\n",
              "  <thead>\n",
              "    <tr style=\"text-align: right;\">\n",
              "      <th></th>\n",
              "      <th>Summary</th>\n",
              "      <th>Rate</th>\n",
              "    </tr>\n",
              "  </thead>\n",
              "  <tbody>\n",
              "    <tr>\n",
              "      <th>0</th>\n",
              "      <td>it's really worth every single penny. it works...</td>\n",
              "      <td>5</td>\n",
              "    </tr>\n",
              "    <tr>\n",
              "      <th>1</th>\n",
              "      <td>I bought Crompton Ozone 75 Desert Air Cooler i...</td>\n",
              "      <td>4</td>\n",
              "    </tr>\n",
              "    <tr>\n",
              "      <th>2</th>\n",
              "      <td>GREAT packaging by seller. As this was the mos...</td>\n",
              "      <td>5</td>\n",
              "    </tr>\n",
              "    <tr>\n",
              "      <th>3</th>\n",
              "      <td>Delivery was delayed by two days except this e...</td>\n",
              "      <td>5</td>\n",
              "    </tr>\n",
              "    <tr>\n",
              "      <th>4</th>\n",
              "      <td>A Good cooler by Crompton. The height of the c...</td>\n",
              "      <td>4</td>\n",
              "    </tr>\n",
              "  </tbody>\n",
              "</table>\n",
              "</div>\n",
              "    <div class=\"colab-df-buttons\">\n",
              "\n",
              "  <div class=\"colab-df-container\">\n",
              "    <button class=\"colab-df-convert\" onclick=\"convertToInteractive('df-6819a1d3-1a21-4b6e-a537-cc260bdb0e8b')\"\n",
              "            title=\"Convert this dataframe to an interactive table.\"\n",
              "            style=\"display:none;\">\n",
              "\n",
              "  <svg xmlns=\"http://www.w3.org/2000/svg\" height=\"24px\" viewBox=\"0 -960 960 960\">\n",
              "    <path d=\"M120-120v-720h720v720H120Zm60-500h600v-160H180v160Zm220 220h160v-160H400v160Zm0 220h160v-160H400v160ZM180-400h160v-160H180v160Zm440 0h160v-160H620v160ZM180-180h160v-160H180v160Zm440 0h160v-160H620v160Z\"/>\n",
              "  </svg>\n",
              "    </button>\n",
              "\n",
              "  <style>\n",
              "    .colab-df-container {\n",
              "      display:flex;\n",
              "      gap: 12px;\n",
              "    }\n",
              "\n",
              "    .colab-df-convert {\n",
              "      background-color: #E8F0FE;\n",
              "      border: none;\n",
              "      border-radius: 50%;\n",
              "      cursor: pointer;\n",
              "      display: none;\n",
              "      fill: #1967D2;\n",
              "      height: 32px;\n",
              "      padding: 0 0 0 0;\n",
              "      width: 32px;\n",
              "    }\n",
              "\n",
              "    .colab-df-convert:hover {\n",
              "      background-color: #E2EBFA;\n",
              "      box-shadow: 0px 1px 2px rgba(60, 64, 67, 0.3), 0px 1px 3px 1px rgba(60, 64, 67, 0.15);\n",
              "      fill: #174EA6;\n",
              "    }\n",
              "\n",
              "    .colab-df-buttons div {\n",
              "      margin-bottom: 4px;\n",
              "    }\n",
              "\n",
              "    [theme=dark] .colab-df-convert {\n",
              "      background-color: #3B4455;\n",
              "      fill: #D2E3FC;\n",
              "    }\n",
              "\n",
              "    [theme=dark] .colab-df-convert:hover {\n",
              "      background-color: #434B5C;\n",
              "      box-shadow: 0px 1px 3px 1px rgba(0, 0, 0, 0.15);\n",
              "      filter: drop-shadow(0px 1px 2px rgba(0, 0, 0, 0.3));\n",
              "      fill: #FFFFFF;\n",
              "    }\n",
              "  </style>\n",
              "\n",
              "    <script>\n",
              "      const buttonEl =\n",
              "        document.querySelector('#df-6819a1d3-1a21-4b6e-a537-cc260bdb0e8b button.colab-df-convert');\n",
              "      buttonEl.style.display =\n",
              "        google.colab.kernel.accessAllowed ? 'block' : 'none';\n",
              "\n",
              "      async function convertToInteractive(key) {\n",
              "        const element = document.querySelector('#df-6819a1d3-1a21-4b6e-a537-cc260bdb0e8b');\n",
              "        const dataTable =\n",
              "          await google.colab.kernel.invokeFunction('convertToInteractive',\n",
              "                                                    [key], {});\n",
              "        if (!dataTable) return;\n",
              "\n",
              "        const docLinkHtml = 'Like what you see? Visit the ' +\n",
              "          '<a target=\"_blank\" href=https://colab.research.google.com/notebooks/data_table.ipynb>data table notebook</a>'\n",
              "          + ' to learn more about interactive tables.';\n",
              "        element.innerHTML = '';\n",
              "        dataTable['output_type'] = 'display_data';\n",
              "        await google.colab.output.renderOutput(dataTable, element);\n",
              "        const docLink = document.createElement('div');\n",
              "        docLink.innerHTML = docLinkHtml;\n",
              "        element.appendChild(docLink);\n",
              "      }\n",
              "    </script>\n",
              "  </div>\n",
              "\n",
              "\n",
              "<div id=\"df-e35a2943-2bbf-4504-885e-6df73feddc72\">\n",
              "  <button class=\"colab-df-quickchart\" onclick=\"quickchart('df-e35a2943-2bbf-4504-885e-6df73feddc72')\"\n",
              "            title=\"Suggest charts\"\n",
              "            style=\"display:none;\">\n",
              "\n",
              "<svg xmlns=\"http://www.w3.org/2000/svg\" height=\"24px\"viewBox=\"0 0 24 24\"\n",
              "     width=\"24px\">\n",
              "    <g>\n",
              "        <path d=\"M19 3H5c-1.1 0-2 .9-2 2v14c0 1.1.9 2 2 2h14c1.1 0 2-.9 2-2V5c0-1.1-.9-2-2-2zM9 17H7v-7h2v7zm4 0h-2V7h2v10zm4 0h-2v-4h2v4z\"/>\n",
              "    </g>\n",
              "</svg>\n",
              "  </button>\n",
              "\n",
              "<style>\n",
              "  .colab-df-quickchart {\n",
              "      --bg-color: #E8F0FE;\n",
              "      --fill-color: #1967D2;\n",
              "      --hover-bg-color: #E2EBFA;\n",
              "      --hover-fill-color: #174EA6;\n",
              "      --disabled-fill-color: #AAA;\n",
              "      --disabled-bg-color: #DDD;\n",
              "  }\n",
              "\n",
              "  [theme=dark] .colab-df-quickchart {\n",
              "      --bg-color: #3B4455;\n",
              "      --fill-color: #D2E3FC;\n",
              "      --hover-bg-color: #434B5C;\n",
              "      --hover-fill-color: #FFFFFF;\n",
              "      --disabled-bg-color: #3B4455;\n",
              "      --disabled-fill-color: #666;\n",
              "  }\n",
              "\n",
              "  .colab-df-quickchart {\n",
              "    background-color: var(--bg-color);\n",
              "    border: none;\n",
              "    border-radius: 50%;\n",
              "    cursor: pointer;\n",
              "    display: none;\n",
              "    fill: var(--fill-color);\n",
              "    height: 32px;\n",
              "    padding: 0;\n",
              "    width: 32px;\n",
              "  }\n",
              "\n",
              "  .colab-df-quickchart:hover {\n",
              "    background-color: var(--hover-bg-color);\n",
              "    box-shadow: 0 1px 2px rgba(60, 64, 67, 0.3), 0 1px 3px 1px rgba(60, 64, 67, 0.15);\n",
              "    fill: var(--button-hover-fill-color);\n",
              "  }\n",
              "\n",
              "  .colab-df-quickchart-complete:disabled,\n",
              "  .colab-df-quickchart-complete:disabled:hover {\n",
              "    background-color: var(--disabled-bg-color);\n",
              "    fill: var(--disabled-fill-color);\n",
              "    box-shadow: none;\n",
              "  }\n",
              "\n",
              "  .colab-df-spinner {\n",
              "    border: 2px solid var(--fill-color);\n",
              "    border-color: transparent;\n",
              "    border-bottom-color: var(--fill-color);\n",
              "    animation:\n",
              "      spin 1s steps(1) infinite;\n",
              "  }\n",
              "\n",
              "  @keyframes spin {\n",
              "    0% {\n",
              "      border-color: transparent;\n",
              "      border-bottom-color: var(--fill-color);\n",
              "      border-left-color: var(--fill-color);\n",
              "    }\n",
              "    20% {\n",
              "      border-color: transparent;\n",
              "      border-left-color: var(--fill-color);\n",
              "      border-top-color: var(--fill-color);\n",
              "    }\n",
              "    30% {\n",
              "      border-color: transparent;\n",
              "      border-left-color: var(--fill-color);\n",
              "      border-top-color: var(--fill-color);\n",
              "      border-right-color: var(--fill-color);\n",
              "    }\n",
              "    40% {\n",
              "      border-color: transparent;\n",
              "      border-right-color: var(--fill-color);\n",
              "      border-top-color: var(--fill-color);\n",
              "    }\n",
              "    60% {\n",
              "      border-color: transparent;\n",
              "      border-right-color: var(--fill-color);\n",
              "    }\n",
              "    80% {\n",
              "      border-color: transparent;\n",
              "      border-right-color: var(--fill-color);\n",
              "      border-bottom-color: var(--fill-color);\n",
              "    }\n",
              "    90% {\n",
              "      border-color: transparent;\n",
              "      border-bottom-color: var(--fill-color);\n",
              "    }\n",
              "  }\n",
              "</style>\n",
              "\n",
              "  <script>\n",
              "    async function quickchart(key) {\n",
              "      const quickchartButtonEl =\n",
              "        document.querySelector('#' + key + ' button');\n",
              "      quickchartButtonEl.disabled = true;  // To prevent multiple clicks.\n",
              "      quickchartButtonEl.classList.add('colab-df-spinner');\n",
              "      try {\n",
              "        const charts = await google.colab.kernel.invokeFunction(\n",
              "            'suggestCharts', [key], {});\n",
              "      } catch (error) {\n",
              "        console.error('Error during call to suggestCharts:', error);\n",
              "      }\n",
              "      quickchartButtonEl.classList.remove('colab-df-spinner');\n",
              "      quickchartButtonEl.classList.add('colab-df-quickchart-complete');\n",
              "    }\n",
              "    (() => {\n",
              "      let quickchartButtonEl =\n",
              "        document.querySelector('#df-e35a2943-2bbf-4504-885e-6df73feddc72 button');\n",
              "      quickchartButtonEl.style.display =\n",
              "        google.colab.kernel.accessAllowed ? 'block' : 'none';\n",
              "    })();\n",
              "  </script>\n",
              "</div>\n",
              "\n",
              "    </div>\n",
              "  </div>\n"
            ],
            "application/vnd.google.colaboratory.intrinsic+json": {
              "type": "dataframe",
              "variable_name": "data1"
            }
          },
          "metadata": {},
          "execution_count": 14
        }
      ]
    },
    {
      "cell_type": "markdown",
      "source": [
        "Count each rating\n"
      ],
      "metadata": {
        "id": "fgrQdDUClKuK"
      }
    },
    {
      "cell_type": "code",
      "source": [
        "data1.Rate.value_counts()"
      ],
      "metadata": {
        "colab": {
          "base_uri": "https://localhost:8080/",
          "height": 554
        },
        "id": "UgHYpNgUlUvB",
        "outputId": "ba3cd151-5133-467c-c8ad-08609b00e10d"
      },
      "execution_count": null,
      "outputs": [
        {
          "output_type": "execute_result",
          "data": {
            "text/plain": [
              "Rate\n",
              "5                                                              146763\n",
              "5.0                                                             57069\n",
              "4                                                               53843\n",
              "1                                                               28375\n",
              "3                                                               23763\n",
              "4.0                                                             20409\n",
              "1.0                                                             11702\n",
              "2                                                                9379\n",
              "3.0                                                              8335\n",
              "2.0                                                              3601\n",
              "product_name                                                        3\n",
              "Pigeon Favourite Electric Kettle????(1.5 L, Silver, Black)          1\n",
              "Bajaj DX 2 L/W Dry Iron                                             1\n",
              "Nova Plus Amaze NI 10 1100 W Dry Iron????(Grey & Turquoise)         1\n",
              "Name: count, dtype: int64"
            ],
            "text/html": [
              "<div>\n",
              "<style scoped>\n",
              "    .dataframe tbody tr th:only-of-type {\n",
              "        vertical-align: middle;\n",
              "    }\n",
              "\n",
              "    .dataframe tbody tr th {\n",
              "        vertical-align: top;\n",
              "    }\n",
              "\n",
              "    .dataframe thead th {\n",
              "        text-align: right;\n",
              "    }\n",
              "</style>\n",
              "<table border=\"1\" class=\"dataframe\">\n",
              "  <thead>\n",
              "    <tr style=\"text-align: right;\">\n",
              "      <th></th>\n",
              "      <th>count</th>\n",
              "    </tr>\n",
              "    <tr>\n",
              "      <th>Rate</th>\n",
              "      <th></th>\n",
              "    </tr>\n",
              "  </thead>\n",
              "  <tbody>\n",
              "    <tr>\n",
              "      <th>5</th>\n",
              "      <td>146763</td>\n",
              "    </tr>\n",
              "    <tr>\n",
              "      <th>5.0</th>\n",
              "      <td>57069</td>\n",
              "    </tr>\n",
              "    <tr>\n",
              "      <th>4</th>\n",
              "      <td>53843</td>\n",
              "    </tr>\n",
              "    <tr>\n",
              "      <th>1</th>\n",
              "      <td>28375</td>\n",
              "    </tr>\n",
              "    <tr>\n",
              "      <th>3</th>\n",
              "      <td>23763</td>\n",
              "    </tr>\n",
              "    <tr>\n",
              "      <th>4.0</th>\n",
              "      <td>20409</td>\n",
              "    </tr>\n",
              "    <tr>\n",
              "      <th>1.0</th>\n",
              "      <td>11702</td>\n",
              "    </tr>\n",
              "    <tr>\n",
              "      <th>2</th>\n",
              "      <td>9379</td>\n",
              "    </tr>\n",
              "    <tr>\n",
              "      <th>3.0</th>\n",
              "      <td>8335</td>\n",
              "    </tr>\n",
              "    <tr>\n",
              "      <th>2.0</th>\n",
              "      <td>3601</td>\n",
              "    </tr>\n",
              "    <tr>\n",
              "      <th>product_name</th>\n",
              "      <td>3</td>\n",
              "    </tr>\n",
              "    <tr>\n",
              "      <th>Pigeon Favourite Electric Kettle????(1.5 L, Silver, Black)</th>\n",
              "      <td>1</td>\n",
              "    </tr>\n",
              "    <tr>\n",
              "      <th>Bajaj DX 2 L/W Dry Iron</th>\n",
              "      <td>1</td>\n",
              "    </tr>\n",
              "    <tr>\n",
              "      <th>Nova Plus Amaze NI 10 1100 W Dry Iron????(Grey &amp; Turquoise)</th>\n",
              "      <td>1</td>\n",
              "    </tr>\n",
              "  </tbody>\n",
              "</table>\n",
              "</div><br><label><b>dtype:</b> int64</label>"
            ]
          },
          "metadata": {},
          "execution_count": 15
        }
      ]
    },
    {
      "cell_type": "code",
      "source": [
        "data1['Rate'] = pd.to_numeric(data1['Rate'], errors='coerce')"
      ],
      "metadata": {
        "id": "KBdAlhZRlOD7",
        "colab": {
          "base_uri": "https://localhost:8080/"
        },
        "outputId": "cae7b8d7-6c92-4cd4-fbf9-8377679b5c26"
      },
      "execution_count": null,
      "outputs": [
        {
          "output_type": "stream",
          "name": "stderr",
          "text": [
            "<ipython-input-16-8509e0d6a8cf>:1: SettingWithCopyWarning: \n",
            "A value is trying to be set on a copy of a slice from a DataFrame.\n",
            "Try using .loc[row_indexer,col_indexer] = value instead\n",
            "\n",
            "See the caveats in the documentation: https://pandas.pydata.org/pandas-docs/stable/user_guide/indexing.html#returning-a-view-versus-a-copy\n",
            "  data1['Rate'] = pd.to_numeric(data1['Rate'], errors='coerce')\n"
          ]
        }
      ]
    },
    {
      "cell_type": "code",
      "source": [
        "data1 = data1[(data1['Rate'] >= 1) & (data1['Rate'] <= 5)]"
      ],
      "metadata": {
        "id": "NehCHsEAmZKC"
      },
      "execution_count": null,
      "outputs": []
    },
    {
      "cell_type": "code",
      "source": [
        "data1 = data1.dropna(subset=['Summary'])\n",
        "data1 = data1[data1['Summary'].str.strip() != '']"
      ],
      "metadata": {
        "id": "s7Ia-eLIm4JS"
      },
      "execution_count": null,
      "outputs": []
    },
    {
      "cell_type": "code",
      "source": [
        "data1.reset_index(drop=True, inplace=True)"
      ],
      "metadata": {
        "id": "Ms-EuWvsm8MB"
      },
      "execution_count": null,
      "outputs": []
    },
    {
      "cell_type": "code",
      "source": [
        "data1.head()"
      ],
      "metadata": {
        "colab": {
          "base_uri": "https://localhost:8080/",
          "height": 206
        },
        "id": "usovJR-6m_mV",
        "outputId": "715d2d88-cf20-4935-bf05-c6c1e7615b00"
      },
      "execution_count": null,
      "outputs": [
        {
          "output_type": "execute_result",
          "data": {
            "text/plain": [
              "                                             Summary  Rate\n",
              "0  it's really worth every single penny. it works...   5.0\n",
              "1  I bought Crompton Ozone 75 Desert Air Cooler i...   4.0\n",
              "2  GREAT packaging by seller. As this was the mos...   5.0\n",
              "3  Delivery was delayed by two days except this e...   5.0\n",
              "4  A Good cooler by Crompton. The height of the c...   4.0"
            ],
            "text/html": [
              "\n",
              "  <div id=\"df-09d50786-9cd8-4b61-ac25-8413f6c70830\" class=\"colab-df-container\">\n",
              "    <div>\n",
              "<style scoped>\n",
              "    .dataframe tbody tr th:only-of-type {\n",
              "        vertical-align: middle;\n",
              "    }\n",
              "\n",
              "    .dataframe tbody tr th {\n",
              "        vertical-align: top;\n",
              "    }\n",
              "\n",
              "    .dataframe thead th {\n",
              "        text-align: right;\n",
              "    }\n",
              "</style>\n",
              "<table border=\"1\" class=\"dataframe\">\n",
              "  <thead>\n",
              "    <tr style=\"text-align: right;\">\n",
              "      <th></th>\n",
              "      <th>Summary</th>\n",
              "      <th>Rate</th>\n",
              "    </tr>\n",
              "  </thead>\n",
              "  <tbody>\n",
              "    <tr>\n",
              "      <th>0</th>\n",
              "      <td>it's really worth every single penny. it works...</td>\n",
              "      <td>5.0</td>\n",
              "    </tr>\n",
              "    <tr>\n",
              "      <th>1</th>\n",
              "      <td>I bought Crompton Ozone 75 Desert Air Cooler i...</td>\n",
              "      <td>4.0</td>\n",
              "    </tr>\n",
              "    <tr>\n",
              "      <th>2</th>\n",
              "      <td>GREAT packaging by seller. As this was the mos...</td>\n",
              "      <td>5.0</td>\n",
              "    </tr>\n",
              "    <tr>\n",
              "      <th>3</th>\n",
              "      <td>Delivery was delayed by two days except this e...</td>\n",
              "      <td>5.0</td>\n",
              "    </tr>\n",
              "    <tr>\n",
              "      <th>4</th>\n",
              "      <td>A Good cooler by Crompton. The height of the c...</td>\n",
              "      <td>4.0</td>\n",
              "    </tr>\n",
              "  </tbody>\n",
              "</table>\n",
              "</div>\n",
              "    <div class=\"colab-df-buttons\">\n",
              "\n",
              "  <div class=\"colab-df-container\">\n",
              "    <button class=\"colab-df-convert\" onclick=\"convertToInteractive('df-09d50786-9cd8-4b61-ac25-8413f6c70830')\"\n",
              "            title=\"Convert this dataframe to an interactive table.\"\n",
              "            style=\"display:none;\">\n",
              "\n",
              "  <svg xmlns=\"http://www.w3.org/2000/svg\" height=\"24px\" viewBox=\"0 -960 960 960\">\n",
              "    <path d=\"M120-120v-720h720v720H120Zm60-500h600v-160H180v160Zm220 220h160v-160H400v160Zm0 220h160v-160H400v160ZM180-400h160v-160H180v160Zm440 0h160v-160H620v160ZM180-180h160v-160H180v160Zm440 0h160v-160H620v160Z\"/>\n",
              "  </svg>\n",
              "    </button>\n",
              "\n",
              "  <style>\n",
              "    .colab-df-container {\n",
              "      display:flex;\n",
              "      gap: 12px;\n",
              "    }\n",
              "\n",
              "    .colab-df-convert {\n",
              "      background-color: #E8F0FE;\n",
              "      border: none;\n",
              "      border-radius: 50%;\n",
              "      cursor: pointer;\n",
              "      display: none;\n",
              "      fill: #1967D2;\n",
              "      height: 32px;\n",
              "      padding: 0 0 0 0;\n",
              "      width: 32px;\n",
              "    }\n",
              "\n",
              "    .colab-df-convert:hover {\n",
              "      background-color: #E2EBFA;\n",
              "      box-shadow: 0px 1px 2px rgba(60, 64, 67, 0.3), 0px 1px 3px 1px rgba(60, 64, 67, 0.15);\n",
              "      fill: #174EA6;\n",
              "    }\n",
              "\n",
              "    .colab-df-buttons div {\n",
              "      margin-bottom: 4px;\n",
              "    }\n",
              "\n",
              "    [theme=dark] .colab-df-convert {\n",
              "      background-color: #3B4455;\n",
              "      fill: #D2E3FC;\n",
              "    }\n",
              "\n",
              "    [theme=dark] .colab-df-convert:hover {\n",
              "      background-color: #434B5C;\n",
              "      box-shadow: 0px 1px 3px 1px rgba(0, 0, 0, 0.15);\n",
              "      filter: drop-shadow(0px 1px 2px rgba(0, 0, 0, 0.3));\n",
              "      fill: #FFFFFF;\n",
              "    }\n",
              "  </style>\n",
              "\n",
              "    <script>\n",
              "      const buttonEl =\n",
              "        document.querySelector('#df-09d50786-9cd8-4b61-ac25-8413f6c70830 button.colab-df-convert');\n",
              "      buttonEl.style.display =\n",
              "        google.colab.kernel.accessAllowed ? 'block' : 'none';\n",
              "\n",
              "      async function convertToInteractive(key) {\n",
              "        const element = document.querySelector('#df-09d50786-9cd8-4b61-ac25-8413f6c70830');\n",
              "        const dataTable =\n",
              "          await google.colab.kernel.invokeFunction('convertToInteractive',\n",
              "                                                    [key], {});\n",
              "        if (!dataTable) return;\n",
              "\n",
              "        const docLinkHtml = 'Like what you see? Visit the ' +\n",
              "          '<a target=\"_blank\" href=https://colab.research.google.com/notebooks/data_table.ipynb>data table notebook</a>'\n",
              "          + ' to learn more about interactive tables.';\n",
              "        element.innerHTML = '';\n",
              "        dataTable['output_type'] = 'display_data';\n",
              "        await google.colab.output.renderOutput(dataTable, element);\n",
              "        const docLink = document.createElement('div');\n",
              "        docLink.innerHTML = docLinkHtml;\n",
              "        element.appendChild(docLink);\n",
              "      }\n",
              "    </script>\n",
              "  </div>\n",
              "\n",
              "\n",
              "<div id=\"df-d7ab1747-51a6-4f9f-8ceb-9bb9e107ebc6\">\n",
              "  <button class=\"colab-df-quickchart\" onclick=\"quickchart('df-d7ab1747-51a6-4f9f-8ceb-9bb9e107ebc6')\"\n",
              "            title=\"Suggest charts\"\n",
              "            style=\"display:none;\">\n",
              "\n",
              "<svg xmlns=\"http://www.w3.org/2000/svg\" height=\"24px\"viewBox=\"0 0 24 24\"\n",
              "     width=\"24px\">\n",
              "    <g>\n",
              "        <path d=\"M19 3H5c-1.1 0-2 .9-2 2v14c0 1.1.9 2 2 2h14c1.1 0 2-.9 2-2V5c0-1.1-.9-2-2-2zM9 17H7v-7h2v7zm4 0h-2V7h2v10zm4 0h-2v-4h2v4z\"/>\n",
              "    </g>\n",
              "</svg>\n",
              "  </button>\n",
              "\n",
              "<style>\n",
              "  .colab-df-quickchart {\n",
              "      --bg-color: #E8F0FE;\n",
              "      --fill-color: #1967D2;\n",
              "      --hover-bg-color: #E2EBFA;\n",
              "      --hover-fill-color: #174EA6;\n",
              "      --disabled-fill-color: #AAA;\n",
              "      --disabled-bg-color: #DDD;\n",
              "  }\n",
              "\n",
              "  [theme=dark] .colab-df-quickchart {\n",
              "      --bg-color: #3B4455;\n",
              "      --fill-color: #D2E3FC;\n",
              "      --hover-bg-color: #434B5C;\n",
              "      --hover-fill-color: #FFFFFF;\n",
              "      --disabled-bg-color: #3B4455;\n",
              "      --disabled-fill-color: #666;\n",
              "  }\n",
              "\n",
              "  .colab-df-quickchart {\n",
              "    background-color: var(--bg-color);\n",
              "    border: none;\n",
              "    border-radius: 50%;\n",
              "    cursor: pointer;\n",
              "    display: none;\n",
              "    fill: var(--fill-color);\n",
              "    height: 32px;\n",
              "    padding: 0;\n",
              "    width: 32px;\n",
              "  }\n",
              "\n",
              "  .colab-df-quickchart:hover {\n",
              "    background-color: var(--hover-bg-color);\n",
              "    box-shadow: 0 1px 2px rgba(60, 64, 67, 0.3), 0 1px 3px 1px rgba(60, 64, 67, 0.15);\n",
              "    fill: var(--button-hover-fill-color);\n",
              "  }\n",
              "\n",
              "  .colab-df-quickchart-complete:disabled,\n",
              "  .colab-df-quickchart-complete:disabled:hover {\n",
              "    background-color: var(--disabled-bg-color);\n",
              "    fill: var(--disabled-fill-color);\n",
              "    box-shadow: none;\n",
              "  }\n",
              "\n",
              "  .colab-df-spinner {\n",
              "    border: 2px solid var(--fill-color);\n",
              "    border-color: transparent;\n",
              "    border-bottom-color: var(--fill-color);\n",
              "    animation:\n",
              "      spin 1s steps(1) infinite;\n",
              "  }\n",
              "\n",
              "  @keyframes spin {\n",
              "    0% {\n",
              "      border-color: transparent;\n",
              "      border-bottom-color: var(--fill-color);\n",
              "      border-left-color: var(--fill-color);\n",
              "    }\n",
              "    20% {\n",
              "      border-color: transparent;\n",
              "      border-left-color: var(--fill-color);\n",
              "      border-top-color: var(--fill-color);\n",
              "    }\n",
              "    30% {\n",
              "      border-color: transparent;\n",
              "      border-left-color: var(--fill-color);\n",
              "      border-top-color: var(--fill-color);\n",
              "      border-right-color: var(--fill-color);\n",
              "    }\n",
              "    40% {\n",
              "      border-color: transparent;\n",
              "      border-right-color: var(--fill-color);\n",
              "      border-top-color: var(--fill-color);\n",
              "    }\n",
              "    60% {\n",
              "      border-color: transparent;\n",
              "      border-right-color: var(--fill-color);\n",
              "    }\n",
              "    80% {\n",
              "      border-color: transparent;\n",
              "      border-right-color: var(--fill-color);\n",
              "      border-bottom-color: var(--fill-color);\n",
              "    }\n",
              "    90% {\n",
              "      border-color: transparent;\n",
              "      border-bottom-color: var(--fill-color);\n",
              "    }\n",
              "  }\n",
              "</style>\n",
              "\n",
              "  <script>\n",
              "    async function quickchart(key) {\n",
              "      const quickchartButtonEl =\n",
              "        document.querySelector('#' + key + ' button');\n",
              "      quickchartButtonEl.disabled = true;  // To prevent multiple clicks.\n",
              "      quickchartButtonEl.classList.add('colab-df-spinner');\n",
              "      try {\n",
              "        const charts = await google.colab.kernel.invokeFunction(\n",
              "            'suggestCharts', [key], {});\n",
              "      } catch (error) {\n",
              "        console.error('Error during call to suggestCharts:', error);\n",
              "      }\n",
              "      quickchartButtonEl.classList.remove('colab-df-spinner');\n",
              "      quickchartButtonEl.classList.add('colab-df-quickchart-complete');\n",
              "    }\n",
              "    (() => {\n",
              "      let quickchartButtonEl =\n",
              "        document.querySelector('#df-d7ab1747-51a6-4f9f-8ceb-9bb9e107ebc6 button');\n",
              "      quickchartButtonEl.style.display =\n",
              "        google.colab.kernel.accessAllowed ? 'block' : 'none';\n",
              "    })();\n",
              "  </script>\n",
              "</div>\n",
              "\n",
              "    </div>\n",
              "  </div>\n"
            ],
            "application/vnd.google.colaboratory.intrinsic+json": {
              "type": "dataframe",
              "variable_name": "data1"
            }
          },
          "metadata": {},
          "execution_count": 20
        }
      ]
    },
    {
      "cell_type": "code",
      "source": [
        "data1.Rate.value_counts()"
      ],
      "metadata": {
        "colab": {
          "base_uri": "https://localhost:8080/",
          "height": 272
        },
        "id": "2POAtZVFnCLF",
        "outputId": "28b77f98-4044-4e31-eb63-ff3b43777503"
      },
      "execution_count": null,
      "outputs": [
        {
          "output_type": "execute_result",
          "data": {
            "text/plain": [
              "Rate\n",
              "5.0    202705\n",
              "4.0     73860\n",
              "1.0     39892\n",
              "3.0     31871\n",
              "2.0     12905\n",
              "Name: count, dtype: int64"
            ],
            "text/html": [
              "<div>\n",
              "<style scoped>\n",
              "    .dataframe tbody tr th:only-of-type {\n",
              "        vertical-align: middle;\n",
              "    }\n",
              "\n",
              "    .dataframe tbody tr th {\n",
              "        vertical-align: top;\n",
              "    }\n",
              "\n",
              "    .dataframe thead th {\n",
              "        text-align: right;\n",
              "    }\n",
              "</style>\n",
              "<table border=\"1\" class=\"dataframe\">\n",
              "  <thead>\n",
              "    <tr style=\"text-align: right;\">\n",
              "      <th></th>\n",
              "      <th>count</th>\n",
              "    </tr>\n",
              "    <tr>\n",
              "      <th>Rate</th>\n",
              "      <th></th>\n",
              "    </tr>\n",
              "  </thead>\n",
              "  <tbody>\n",
              "    <tr>\n",
              "      <th>5.0</th>\n",
              "      <td>202705</td>\n",
              "    </tr>\n",
              "    <tr>\n",
              "      <th>4.0</th>\n",
              "      <td>73860</td>\n",
              "    </tr>\n",
              "    <tr>\n",
              "      <th>1.0</th>\n",
              "      <td>39892</td>\n",
              "    </tr>\n",
              "    <tr>\n",
              "      <th>3.0</th>\n",
              "      <td>31871</td>\n",
              "    </tr>\n",
              "    <tr>\n",
              "      <th>2.0</th>\n",
              "      <td>12905</td>\n",
              "    </tr>\n",
              "  </tbody>\n",
              "</table>\n",
              "</div><br><label><b>dtype:</b> int64</label>"
            ]
          },
          "metadata": {},
          "execution_count": 21
        }
      ]
    },
    {
      "cell_type": "code",
      "source": [
        "def map_review(x) :\n",
        "  if x<3:\n",
        "    return 'Negative'\n",
        "  elif x == 3:\n",
        "    return 'Neutral'\n",
        "  else:\n",
        "    return 'Positive'"
      ],
      "metadata": {
        "id": "0IG836CAnEgs"
      },
      "execution_count": null,
      "outputs": []
    },
    {
      "cell_type": "code",
      "source": [
        "data1['Review'] = data1['Rate'].apply(lambda x:map_review(x))"
      ],
      "metadata": {
        "id": "OH057M_enl3c"
      },
      "execution_count": null,
      "outputs": []
    },
    {
      "cell_type": "code",
      "source": [
        "data1.head()"
      ],
      "metadata": {
        "colab": {
          "base_uri": "https://localhost:8080/",
          "height": 206
        },
        "id": "HJsq-sunn168",
        "outputId": "36e1f375-7015-47a7-aadd-1feb0e3f1521"
      },
      "execution_count": null,
      "outputs": [
        {
          "output_type": "execute_result",
          "data": {
            "text/plain": [
              "                                             Summary  Rate    Review\n",
              "0  it's really worth every single penny. it works...   5.0  Positive\n",
              "1  I bought Crompton Ozone 75 Desert Air Cooler i...   4.0  Positive\n",
              "2  GREAT packaging by seller. As this was the mos...   5.0  Positive\n",
              "3  Delivery was delayed by two days except this e...   5.0  Positive\n",
              "4  A Good cooler by Crompton. The height of the c...   4.0  Positive"
            ],
            "text/html": [
              "\n",
              "  <div id=\"df-7a7b6983-60df-4ec3-9d1e-fe2eaafcdf46\" class=\"colab-df-container\">\n",
              "    <div>\n",
              "<style scoped>\n",
              "    .dataframe tbody tr th:only-of-type {\n",
              "        vertical-align: middle;\n",
              "    }\n",
              "\n",
              "    .dataframe tbody tr th {\n",
              "        vertical-align: top;\n",
              "    }\n",
              "\n",
              "    .dataframe thead th {\n",
              "        text-align: right;\n",
              "    }\n",
              "</style>\n",
              "<table border=\"1\" class=\"dataframe\">\n",
              "  <thead>\n",
              "    <tr style=\"text-align: right;\">\n",
              "      <th></th>\n",
              "      <th>Summary</th>\n",
              "      <th>Rate</th>\n",
              "      <th>Review</th>\n",
              "    </tr>\n",
              "  </thead>\n",
              "  <tbody>\n",
              "    <tr>\n",
              "      <th>0</th>\n",
              "      <td>it's really worth every single penny. it works...</td>\n",
              "      <td>5.0</td>\n",
              "      <td>Positive</td>\n",
              "    </tr>\n",
              "    <tr>\n",
              "      <th>1</th>\n",
              "      <td>I bought Crompton Ozone 75 Desert Air Cooler i...</td>\n",
              "      <td>4.0</td>\n",
              "      <td>Positive</td>\n",
              "    </tr>\n",
              "    <tr>\n",
              "      <th>2</th>\n",
              "      <td>GREAT packaging by seller. As this was the mos...</td>\n",
              "      <td>5.0</td>\n",
              "      <td>Positive</td>\n",
              "    </tr>\n",
              "    <tr>\n",
              "      <th>3</th>\n",
              "      <td>Delivery was delayed by two days except this e...</td>\n",
              "      <td>5.0</td>\n",
              "      <td>Positive</td>\n",
              "    </tr>\n",
              "    <tr>\n",
              "      <th>4</th>\n",
              "      <td>A Good cooler by Crompton. The height of the c...</td>\n",
              "      <td>4.0</td>\n",
              "      <td>Positive</td>\n",
              "    </tr>\n",
              "  </tbody>\n",
              "</table>\n",
              "</div>\n",
              "    <div class=\"colab-df-buttons\">\n",
              "\n",
              "  <div class=\"colab-df-container\">\n",
              "    <button class=\"colab-df-convert\" onclick=\"convertToInteractive('df-7a7b6983-60df-4ec3-9d1e-fe2eaafcdf46')\"\n",
              "            title=\"Convert this dataframe to an interactive table.\"\n",
              "            style=\"display:none;\">\n",
              "\n",
              "  <svg xmlns=\"http://www.w3.org/2000/svg\" height=\"24px\" viewBox=\"0 -960 960 960\">\n",
              "    <path d=\"M120-120v-720h720v720H120Zm60-500h600v-160H180v160Zm220 220h160v-160H400v160Zm0 220h160v-160H400v160ZM180-400h160v-160H180v160Zm440 0h160v-160H620v160ZM180-180h160v-160H180v160Zm440 0h160v-160H620v160Z\"/>\n",
              "  </svg>\n",
              "    </button>\n",
              "\n",
              "  <style>\n",
              "    .colab-df-container {\n",
              "      display:flex;\n",
              "      gap: 12px;\n",
              "    }\n",
              "\n",
              "    .colab-df-convert {\n",
              "      background-color: #E8F0FE;\n",
              "      border: none;\n",
              "      border-radius: 50%;\n",
              "      cursor: pointer;\n",
              "      display: none;\n",
              "      fill: #1967D2;\n",
              "      height: 32px;\n",
              "      padding: 0 0 0 0;\n",
              "      width: 32px;\n",
              "    }\n",
              "\n",
              "    .colab-df-convert:hover {\n",
              "      background-color: #E2EBFA;\n",
              "      box-shadow: 0px 1px 2px rgba(60, 64, 67, 0.3), 0px 1px 3px 1px rgba(60, 64, 67, 0.15);\n",
              "      fill: #174EA6;\n",
              "    }\n",
              "\n",
              "    .colab-df-buttons div {\n",
              "      margin-bottom: 4px;\n",
              "    }\n",
              "\n",
              "    [theme=dark] .colab-df-convert {\n",
              "      background-color: #3B4455;\n",
              "      fill: #D2E3FC;\n",
              "    }\n",
              "\n",
              "    [theme=dark] .colab-df-convert:hover {\n",
              "      background-color: #434B5C;\n",
              "      box-shadow: 0px 1px 3px 1px rgba(0, 0, 0, 0.15);\n",
              "      filter: drop-shadow(0px 1px 2px rgba(0, 0, 0, 0.3));\n",
              "      fill: #FFFFFF;\n",
              "    }\n",
              "  </style>\n",
              "\n",
              "    <script>\n",
              "      const buttonEl =\n",
              "        document.querySelector('#df-7a7b6983-60df-4ec3-9d1e-fe2eaafcdf46 button.colab-df-convert');\n",
              "      buttonEl.style.display =\n",
              "        google.colab.kernel.accessAllowed ? 'block' : 'none';\n",
              "\n",
              "      async function convertToInteractive(key) {\n",
              "        const element = document.querySelector('#df-7a7b6983-60df-4ec3-9d1e-fe2eaafcdf46');\n",
              "        const dataTable =\n",
              "          await google.colab.kernel.invokeFunction('convertToInteractive',\n",
              "                                                    [key], {});\n",
              "        if (!dataTable) return;\n",
              "\n",
              "        const docLinkHtml = 'Like what you see? Visit the ' +\n",
              "          '<a target=\"_blank\" href=https://colab.research.google.com/notebooks/data_table.ipynb>data table notebook</a>'\n",
              "          + ' to learn more about interactive tables.';\n",
              "        element.innerHTML = '';\n",
              "        dataTable['output_type'] = 'display_data';\n",
              "        await google.colab.output.renderOutput(dataTable, element);\n",
              "        const docLink = document.createElement('div');\n",
              "        docLink.innerHTML = docLinkHtml;\n",
              "        element.appendChild(docLink);\n",
              "      }\n",
              "    </script>\n",
              "  </div>\n",
              "\n",
              "\n",
              "<div id=\"df-7d825233-0be5-43a6-87e3-9dc772fafba6\">\n",
              "  <button class=\"colab-df-quickchart\" onclick=\"quickchart('df-7d825233-0be5-43a6-87e3-9dc772fafba6')\"\n",
              "            title=\"Suggest charts\"\n",
              "            style=\"display:none;\">\n",
              "\n",
              "<svg xmlns=\"http://www.w3.org/2000/svg\" height=\"24px\"viewBox=\"0 0 24 24\"\n",
              "     width=\"24px\">\n",
              "    <g>\n",
              "        <path d=\"M19 3H5c-1.1 0-2 .9-2 2v14c0 1.1.9 2 2 2h14c1.1 0 2-.9 2-2V5c0-1.1-.9-2-2-2zM9 17H7v-7h2v7zm4 0h-2V7h2v10zm4 0h-2v-4h2v4z\"/>\n",
              "    </g>\n",
              "</svg>\n",
              "  </button>\n",
              "\n",
              "<style>\n",
              "  .colab-df-quickchart {\n",
              "      --bg-color: #E8F0FE;\n",
              "      --fill-color: #1967D2;\n",
              "      --hover-bg-color: #E2EBFA;\n",
              "      --hover-fill-color: #174EA6;\n",
              "      --disabled-fill-color: #AAA;\n",
              "      --disabled-bg-color: #DDD;\n",
              "  }\n",
              "\n",
              "  [theme=dark] .colab-df-quickchart {\n",
              "      --bg-color: #3B4455;\n",
              "      --fill-color: #D2E3FC;\n",
              "      --hover-bg-color: #434B5C;\n",
              "      --hover-fill-color: #FFFFFF;\n",
              "      --disabled-bg-color: #3B4455;\n",
              "      --disabled-fill-color: #666;\n",
              "  }\n",
              "\n",
              "  .colab-df-quickchart {\n",
              "    background-color: var(--bg-color);\n",
              "    border: none;\n",
              "    border-radius: 50%;\n",
              "    cursor: pointer;\n",
              "    display: none;\n",
              "    fill: var(--fill-color);\n",
              "    height: 32px;\n",
              "    padding: 0;\n",
              "    width: 32px;\n",
              "  }\n",
              "\n",
              "  .colab-df-quickchart:hover {\n",
              "    background-color: var(--hover-bg-color);\n",
              "    box-shadow: 0 1px 2px rgba(60, 64, 67, 0.3), 0 1px 3px 1px rgba(60, 64, 67, 0.15);\n",
              "    fill: var(--button-hover-fill-color);\n",
              "  }\n",
              "\n",
              "  .colab-df-quickchart-complete:disabled,\n",
              "  .colab-df-quickchart-complete:disabled:hover {\n",
              "    background-color: var(--disabled-bg-color);\n",
              "    fill: var(--disabled-fill-color);\n",
              "    box-shadow: none;\n",
              "  }\n",
              "\n",
              "  .colab-df-spinner {\n",
              "    border: 2px solid var(--fill-color);\n",
              "    border-color: transparent;\n",
              "    border-bottom-color: var(--fill-color);\n",
              "    animation:\n",
              "      spin 1s steps(1) infinite;\n",
              "  }\n",
              "\n",
              "  @keyframes spin {\n",
              "    0% {\n",
              "      border-color: transparent;\n",
              "      border-bottom-color: var(--fill-color);\n",
              "      border-left-color: var(--fill-color);\n",
              "    }\n",
              "    20% {\n",
              "      border-color: transparent;\n",
              "      border-left-color: var(--fill-color);\n",
              "      border-top-color: var(--fill-color);\n",
              "    }\n",
              "    30% {\n",
              "      border-color: transparent;\n",
              "      border-left-color: var(--fill-color);\n",
              "      border-top-color: var(--fill-color);\n",
              "      border-right-color: var(--fill-color);\n",
              "    }\n",
              "    40% {\n",
              "      border-color: transparent;\n",
              "      border-right-color: var(--fill-color);\n",
              "      border-top-color: var(--fill-color);\n",
              "    }\n",
              "    60% {\n",
              "      border-color: transparent;\n",
              "      border-right-color: var(--fill-color);\n",
              "    }\n",
              "    80% {\n",
              "      border-color: transparent;\n",
              "      border-right-color: var(--fill-color);\n",
              "      border-bottom-color: var(--fill-color);\n",
              "    }\n",
              "    90% {\n",
              "      border-color: transparent;\n",
              "      border-bottom-color: var(--fill-color);\n",
              "    }\n",
              "  }\n",
              "</style>\n",
              "\n",
              "  <script>\n",
              "    async function quickchart(key) {\n",
              "      const quickchartButtonEl =\n",
              "        document.querySelector('#' + key + ' button');\n",
              "      quickchartButtonEl.disabled = true;  // To prevent multiple clicks.\n",
              "      quickchartButtonEl.classList.add('colab-df-spinner');\n",
              "      try {\n",
              "        const charts = await google.colab.kernel.invokeFunction(\n",
              "            'suggestCharts', [key], {});\n",
              "      } catch (error) {\n",
              "        console.error('Error during call to suggestCharts:', error);\n",
              "      }\n",
              "      quickchartButtonEl.classList.remove('colab-df-spinner');\n",
              "      quickchartButtonEl.classList.add('colab-df-quickchart-complete');\n",
              "    }\n",
              "    (() => {\n",
              "      let quickchartButtonEl =\n",
              "        document.querySelector('#df-7d825233-0be5-43a6-87e3-9dc772fafba6 button');\n",
              "      quickchartButtonEl.style.display =\n",
              "        google.colab.kernel.accessAllowed ? 'block' : 'none';\n",
              "    })();\n",
              "  </script>\n",
              "</div>\n",
              "\n",
              "    </div>\n",
              "  </div>\n"
            ],
            "application/vnd.google.colaboratory.intrinsic+json": {
              "type": "dataframe",
              "variable_name": "data1"
            }
          },
          "metadata": {},
          "execution_count": 24
        }
      ]
    },
    {
      "cell_type": "code",
      "source": [
        "data1.Review.value_counts()"
      ],
      "metadata": {
        "colab": {
          "base_uri": "https://localhost:8080/",
          "height": 209
        },
        "id": "6Db1EPu9n3o6",
        "outputId": "8f6d61a2-6502-4913-c6e5-538a107f9415"
      },
      "execution_count": null,
      "outputs": [
        {
          "output_type": "execute_result",
          "data": {
            "text/plain": [
              "Review\n",
              "Positive    276565\n",
              "Negative     52797\n",
              "Neutral      31871\n",
              "Name: count, dtype: int64"
            ],
            "text/html": [
              "<div>\n",
              "<style scoped>\n",
              "    .dataframe tbody tr th:only-of-type {\n",
              "        vertical-align: middle;\n",
              "    }\n",
              "\n",
              "    .dataframe tbody tr th {\n",
              "        vertical-align: top;\n",
              "    }\n",
              "\n",
              "    .dataframe thead th {\n",
              "        text-align: right;\n",
              "    }\n",
              "</style>\n",
              "<table border=\"1\" class=\"dataframe\">\n",
              "  <thead>\n",
              "    <tr style=\"text-align: right;\">\n",
              "      <th></th>\n",
              "      <th>count</th>\n",
              "    </tr>\n",
              "    <tr>\n",
              "      <th>Review</th>\n",
              "      <th></th>\n",
              "    </tr>\n",
              "  </thead>\n",
              "  <tbody>\n",
              "    <tr>\n",
              "      <th>Positive</th>\n",
              "      <td>276565</td>\n",
              "    </tr>\n",
              "    <tr>\n",
              "      <th>Negative</th>\n",
              "      <td>52797</td>\n",
              "    </tr>\n",
              "    <tr>\n",
              "      <th>Neutral</th>\n",
              "      <td>31871</td>\n",
              "    </tr>\n",
              "  </tbody>\n",
              "</table>\n",
              "</div><br><label><b>dtype:</b> int64</label>"
            ]
          },
          "metadata": {},
          "execution_count": 25
        }
      ]
    },
    {
      "cell_type": "code",
      "source": [
        "data1 = data1.sample(n=6000, random_state=42)\n",
        "print(data1.shape)"
      ],
      "metadata": {
        "colab": {
          "base_uri": "https://localhost:8080/"
        },
        "id": "zSQbtFzKx9lP",
        "outputId": "facf8c7a-6d8f-4e9c-9b9f-3c7e8e3f8846"
      },
      "execution_count": null,
      "outputs": [
        {
          "output_type": "stream",
          "name": "stdout",
          "text": [
            "(6000, 3)\n"
          ]
        }
      ]
    },
    {
      "cell_type": "code",
      "source": [
        "data1.Review.value_counts()"
      ],
      "metadata": {
        "colab": {
          "base_uri": "https://localhost:8080/",
          "height": 209
        },
        "id": "rAjJ696dyWZh",
        "outputId": "137f03c6-08b1-4778-92c9-4bf83aec64f3"
      },
      "execution_count": null,
      "outputs": [
        {
          "output_type": "execute_result",
          "data": {
            "text/plain": [
              "Review\n",
              "Positive    4606\n",
              "Negative     861\n",
              "Neutral      533\n",
              "Name: count, dtype: int64"
            ],
            "text/html": [
              "<div>\n",
              "<style scoped>\n",
              "    .dataframe tbody tr th:only-of-type {\n",
              "        vertical-align: middle;\n",
              "    }\n",
              "\n",
              "    .dataframe tbody tr th {\n",
              "        vertical-align: top;\n",
              "    }\n",
              "\n",
              "    .dataframe thead th {\n",
              "        text-align: right;\n",
              "    }\n",
              "</style>\n",
              "<table border=\"1\" class=\"dataframe\">\n",
              "  <thead>\n",
              "    <tr style=\"text-align: right;\">\n",
              "      <th></th>\n",
              "      <th>count</th>\n",
              "    </tr>\n",
              "    <tr>\n",
              "      <th>Review</th>\n",
              "      <th></th>\n",
              "    </tr>\n",
              "  </thead>\n",
              "  <tbody>\n",
              "    <tr>\n",
              "      <th>Positive</th>\n",
              "      <td>4606</td>\n",
              "    </tr>\n",
              "    <tr>\n",
              "      <th>Negative</th>\n",
              "      <td>861</td>\n",
              "    </tr>\n",
              "    <tr>\n",
              "      <th>Neutral</th>\n",
              "      <td>533</td>\n",
              "    </tr>\n",
              "  </tbody>\n",
              "</table>\n",
              "</div><br><label><b>dtype:</b> int64</label>"
            ]
          },
          "metadata": {},
          "execution_count": 27
        }
      ]
    },
    {
      "cell_type": "code",
      "source": [
        "!pip install nltk"
      ],
      "metadata": {
        "colab": {
          "base_uri": "https://localhost:8080/"
        },
        "id": "1LiC1eIfo5Q4",
        "outputId": "633ed917-8684-451b-be44-b24754816f6c"
      },
      "execution_count": null,
      "outputs": [
        {
          "output_type": "stream",
          "name": "stdout",
          "text": [
            "Requirement already satisfied: nltk in /usr/local/lib/python3.10/dist-packages (3.8.1)\n",
            "Requirement already satisfied: click in /usr/local/lib/python3.10/dist-packages (from nltk) (8.1.7)\n",
            "Requirement already satisfied: joblib in /usr/local/lib/python3.10/dist-packages (from nltk) (1.4.2)\n",
            "Requirement already satisfied: regex>=2021.8.3 in /usr/local/lib/python3.10/dist-packages (from nltk) (2024.9.11)\n",
            "Requirement already satisfied: tqdm in /usr/local/lib/python3.10/dist-packages (from nltk) (4.66.5)\n"
          ]
        }
      ]
    },
    {
      "cell_type": "code",
      "source": [
        "import nltk\n",
        "nltk.download('stopwords')\n"
      ],
      "metadata": {
        "colab": {
          "base_uri": "https://localhost:8080/"
        },
        "id": "4BvFMD7coOlj",
        "outputId": "3df172f7-c4e2-4069-9ed0-ff879cf88a78"
      },
      "execution_count": null,
      "outputs": [
        {
          "output_type": "stream",
          "name": "stderr",
          "text": [
            "[nltk_data] Downloading package stopwords to /root/nltk_data...\n",
            "[nltk_data]   Unzipping corpora/stopwords.zip.\n"
          ]
        },
        {
          "output_type": "execute_result",
          "data": {
            "text/plain": [
              "True"
            ]
          },
          "metadata": {},
          "execution_count": 29
        }
      ]
    },
    {
      "cell_type": "code",
      "source": [
        "import nltk\n",
        "from nltk.corpus import stopwords\n",
        "stopwords_list = stopwords.words('english')\n",
        "total_stopwords = set(stopwords_list)\n",
        "negative_stop_words = {word for word in total_stopwords if \"n't\" in word or 'no' in word}\n",
        "final_stopwords = total_stopwords - negative_stop_words\n",
        "final_stopwords.add('one')\n",
        "print(final_stopwords)\n"
      ],
      "metadata": {
        "colab": {
          "base_uri": "https://localhost:8080/"
        },
        "id": "mtqMbOLoo0l6",
        "outputId": "f5f715be-358d-4a84-84f0-ffa607af9999"
      },
      "execution_count": null,
      "outputs": [
        {
          "output_type": "stream",
          "name": "stdout",
          "text": [
            "{'until', 'i', 'own', 'it', 'how', 'when', 'do', 's', 'we', 'hers', 'are', 'the', 're', 'on', \"you've\", 'yourselves', 'with', 'of', 'be', 'other', 'y', 'through', 'against', 'if', 'himself', 'too', 'but', \"it's\", 'hasn', 'its', 'more', 'having', 'into', 'an', 've', 'where', 'mightn', 'or', \"she's\", 'off', 'did', 'couldn', 'wouldn', 'their', 'under', 'themselves', 'isn', 'your', 'who', 'will', 'am', 'm', 'is', 'didn', 'yourself', \"that'll\", 'as', 'won', 'those', 'they', 'had', 'during', 'does', 'o', 'his', 'before', 'aren', 'these', 'while', 'wasn', 'she', 'out', 'then', 'shouldn', 'was', 'some', 'which', 'between', 'been', 'above', \"you'll\", 'so', 'one', 'few', 'you', 'them', 'both', 'were', 'here', 'ain', 'below', 'very', 'ourselves', 'myself', 'only', 'has', 'her', 'mustn', 'why', \"you're\", 'haven', 'our', 'hadn', 'at', 'up', 'this', 'what', 'him', 'over', 'll', 'from', 'and', 'same', 'can', 'doesn', 'weren', 'again', 'because', 'by', 'down', 'doing', 'theirs', 'have', 'don', 'shan', 'herself', 'in', 'any', 'needn', 'me', 'my', 'each', 'whom', 'd', 'for', 'being', 'ma', 'such', 'just', 'itself', 'a', 'that', 'once', 'after', \"should've\", \"you'd\", 'should', 'further', 'yours', 'to', 'than', 'he', 't', 'all', 'ours', 'most', 'there', 'about'}\n"
          ]
        }
      ]
    },
    {
      "cell_type": "code",
      "source": [
        "import re\n",
        "import string\n",
        "from nltk.stem import PorterStemmer\n",
        "\n",
        "# Initialize the Porter Stemmer\n",
        "stemmer = PorterStemmer()\n",
        "\n",
        "# Compile regex patterns for removing HTML tags, multiple whitespaces, and digits\n",
        "html_tags_pattern = re.compile(r'<.*?>')\n",
        "multiple_whitespace_pattern = re.compile(r'\\s+')\n",
        "digits_translation = str.maketrans('', '', string.digits)\n",
        "punctuation_translation = str.maketrans('', '', string.punctuation)\n",
        "\n",
        "def clean_text(text):\n",
        "\n",
        "    text = html_tags_pattern.sub('', text)\n",
        "\n",
        "    text = text.translate(digits_translation)\n",
        "\n",
        "    text = text.translate(punctuation_translation)\n",
        "\n",
        "    text = multiple_whitespace_pattern.sub(' ', text).strip()\n",
        "\n",
        "    tokens = text.split()\n",
        "    stemmed_tokens = [stemmer.stem(token) for token in tokens]\n",
        "\n",
        "    cleaned_text = ' '.join(stemmed_tokens)\n",
        "\n",
        "    return cleaned_text\n",
        "\n",
        "example_text = \"The quick brown fox jumps over the lazy dog! <html>Sample text</html>\"\n",
        "cleaned_text = clean_text(example_text)\n",
        "print(cleaned_text)"
      ],
      "metadata": {
        "colab": {
          "base_uri": "https://localhost:8080/"
        },
        "id": "-RM8J4zfpmVA",
        "outputId": "40122a16-a2a0-4333-d088-0ed271a753d6"
      },
      "execution_count": null,
      "outputs": [
        {
          "output_type": "stream",
          "name": "stdout",
          "text": [
            "the quick brown fox jump over the lazi dog sampl text\n"
          ]
        }
      ]
    },
    {
      "cell_type": "code",
      "source": [
        "!pip install wordcloud matplotlib\n"
      ],
      "metadata": {
        "colab": {
          "base_uri": "https://localhost:8080/"
        },
        "id": "Mre5UlF9qZ0S",
        "outputId": "89ef5a38-436f-4da2-b73e-1970b239e567"
      },
      "execution_count": null,
      "outputs": [
        {
          "output_type": "stream",
          "name": "stdout",
          "text": [
            "Requirement already satisfied: wordcloud in /usr/local/lib/python3.10/dist-packages (1.9.3)\n",
            "Requirement already satisfied: matplotlib in /usr/local/lib/python3.10/dist-packages (3.7.1)\n",
            "Requirement already satisfied: numpy>=1.6.1 in /usr/local/lib/python3.10/dist-packages (from wordcloud) (1.26.4)\n",
            "Requirement already satisfied: pillow in /usr/local/lib/python3.10/dist-packages (from wordcloud) (10.4.0)\n",
            "Requirement already satisfied: contourpy>=1.0.1 in /usr/local/lib/python3.10/dist-packages (from matplotlib) (1.3.0)\n",
            "Requirement already satisfied: cycler>=0.10 in /usr/local/lib/python3.10/dist-packages (from matplotlib) (0.12.1)\n",
            "Requirement already satisfied: fonttools>=4.22.0 in /usr/local/lib/python3.10/dist-packages (from matplotlib) (4.54.1)\n",
            "Requirement already satisfied: kiwisolver>=1.0.1 in /usr/local/lib/python3.10/dist-packages (from matplotlib) (1.4.7)\n",
            "Requirement already satisfied: packaging>=20.0 in /usr/local/lib/python3.10/dist-packages (from matplotlib) (24.1)\n",
            "Requirement already satisfied: pyparsing>=2.3.1 in /usr/local/lib/python3.10/dist-packages (from matplotlib) (3.2.0)\n",
            "Requirement already satisfied: python-dateutil>=2.7 in /usr/local/lib/python3.10/dist-packages (from matplotlib) (2.8.2)\n",
            "Requirement already satisfied: six>=1.5 in /usr/local/lib/python3.10/dist-packages (from python-dateutil>=2.7->matplotlib) (1.16.0)\n"
          ]
        }
      ]
    },
    {
      "cell_type": "code",
      "source": [
        "# Define the function to generate a word cloud\n",
        "def generate_wcloud(text, stopwords=None):\n",
        "    # Create the word cloud object\n",
        "    wordcloud = WordCloud(stopwords=stopwords, background_color='white').generate(text)\n",
        "\n",
        "    # Display the word cloud\n",
        "    plt.figure(figsize=(10, 6))\n",
        "    plt.imshow(wordcloud, interpolation='bilinear')\n",
        "    plt.axis('off')\n",
        "    plt.show()"
      ],
      "metadata": {
        "id": "1pBl0boZqtfZ"
      },
      "execution_count": null,
      "outputs": []
    },
    {
      "cell_type": "code",
      "source": [
        "pos = data1.loc[data1['Review'] == 'Positive'].Summary\n",
        "text = \" \".join(review for review in pos.astype(str))\n",
        "# generate_wcloud(text)"
      ],
      "metadata": {
        "id": "ZD8OfYv8q1vq"
      },
      "execution_count": null,
      "outputs": []
    },
    {
      "cell_type": "code",
      "source": [
        "neg = data1.loc[data1['Review'] == 'Negative'].Summary\n",
        "text = \" \".join(review for review in pos.astype(str))\n",
        "# generate_wcloud(text)"
      ],
      "metadata": {
        "id": "4p0sWD8eq4Cr"
      },
      "execution_count": null,
      "outputs": []
    },
    {
      "cell_type": "code",
      "source": [
        "neut = data1.loc[data1['Review'] == 'Nuetral'].Summary\n",
        "text = \" \".join(review for review in pos.astype(str))\n",
        "# generate_wcloud(text)"
      ],
      "metadata": {
        "id": "7ee_FEARsi7c"
      },
      "execution_count": null,
      "outputs": []
    },
    {
      "cell_type": "code",
      "source": [
        "X = data1['Summary']\n",
        "y = data1['Review']"
      ],
      "metadata": {
        "id": "OBkZn2vBtYj7"
      },
      "execution_count": null,
      "outputs": []
    },
    {
      "cell_type": "code",
      "source": [
        "X_train, X_test, y_train, y_test = train_test_split(\n",
        "    X, y, test_size=0.2, random_state=1, stratify=y\n",
        ")"
      ],
      "metadata": {
        "id": "y_Sk7fsGuOj1"
      },
      "execution_count": null,
      "outputs": []
    },
    {
      "cell_type": "code",
      "source": [
        "print('X_train shape:', X_train.shape)\n",
        "print('X_test shape:', X_test.shape)"
      ],
      "metadata": {
        "colab": {
          "base_uri": "https://localhost:8080/"
        },
        "id": "IubAYOE_uRKz",
        "outputId": "9bb9a942-619e-4536-e1c7-9a862a6a6c96"
      },
      "execution_count": null,
      "outputs": [
        {
          "output_type": "stream",
          "name": "stdout",
          "text": [
            "X_train shape: (4800,)\n",
            "X_test shape: (1200,)\n"
          ]
        }
      ]
    },
    {
      "cell_type": "code",
      "source": [
        "from sklearn.feature_extraction.text import CountVectorizer\n",
        "\n",
        "bow_vectorizer = CountVectorizer(max_features=10000)\n",
        "bow_vectorizer.fit(X_train)\n",
        "bow_X_train = bow_vectorizer.transform(X_train)\n",
        "bow_X_test = bow_vectorizer.transform(X_test)\n",
        "print('bow_X_train shape:', bow_X_train.shape)\n",
        "print('bow_X_test shape:', bow_X_test.shape)\n"
      ],
      "metadata": {
        "colab": {
          "base_uri": "https://localhost:8080/"
        },
        "id": "57yxWUUsuUXa",
        "outputId": "159895e8-8626-4f30-fc6c-52ec27cb9ca3"
      },
      "execution_count": null,
      "outputs": [
        {
          "output_type": "stream",
          "name": "stdout",
          "text": [
            "bow_X_train shape: (4800, 4140)\n",
            "bow_X_test shape: (1200, 4140)\n"
          ]
        }
      ]
    },
    {
      "cell_type": "code",
      "source": [
        "from sklearn.feature_extraction.text import TfidfVectorizer\n",
        "\n",
        "tfidf_vectorizer = TfidfVectorizer(max_features=10000)\n",
        "tfidf_vectorizer.fit(X_train)\n",
        "tfidf_X_train = tfidf_vectorizer.transform(X_train)\n",
        "tfidf_X_test = tfidf_vectorizer.transform(X_test)\n",
        "print('tfidf_X_train shape:', tfidf_X_train.shape)\n",
        "print('tfidf_X_test shape:', tfidf_X_test.shape)\n"
      ],
      "metadata": {
        "colab": {
          "base_uri": "https://localhost:8080/"
        },
        "id": "DjCiZl5yukvc",
        "outputId": "edf3a9fb-6821-4fa7-d8e4-a3c3cfec95ed"
      },
      "execution_count": null,
      "outputs": [
        {
          "output_type": "stream",
          "name": "stdout",
          "text": [
            "tfidf_X_train shape: (4800, 4140)\n",
            "tfidf_X_test shape: (1200, 4140)\n"
          ]
        }
      ]
    },
    {
      "cell_type": "code",
      "source": [
        "label_encoder = LabelEncoder()\n",
        "y_train_encoded = label_encoder.fit_transform(y_train)\n",
        "y_test_encoded = label_encoder.transform(y_test)\n",
        "labels = label_encoder.classes_.tolist()\n",
        "print('Class labels:', labels)\n"
      ],
      "metadata": {
        "colab": {
          "base_uri": "https://localhost:8080/"
        },
        "id": "9PEXNbgvu3fS",
        "outputId": "7b2b698b-a1c6-4cb3-c22c-3f5ac781128b"
      },
      "execution_count": null,
      "outputs": [
        {
          "output_type": "stream",
          "name": "stdout",
          "text": [
            "Class labels: ['Negative', 'Neutral', 'Positive']\n"
          ]
        }
      ]
    },
    {
      "cell_type": "markdown",
      "source": [
        "# Training using Deep Learning\n"
      ],
      "metadata": {
        "id": "TTULeVsDqOhJ"
      }
    },
    {
      "cell_type": "code",
      "source": [
        "import numpy as np\n",
        "\n",
        "def relu(x):\n",
        "    return np.maximum(0, x)\n",
        "\n",
        "def relu_derivative(x):\n",
        "    return np.where(x > 0, 1, 0)\n",
        "\n",
        "def softmax(x):\n",
        "    exp_x = np.exp(x - np.max(x, axis=1, keepdims=True))\n",
        "    return exp_x / np.sum(exp_x, axis=1, keepdims=True)\n",
        "\n",
        "def cross_entropy_loss(y_true, y_pred):\n",
        "    n_samples = y_true.shape[0]\n",
        "    logp = - np.log(y_pred[range(n_samples), y_true])\n",
        "    loss = np.sum(logp) / n_samples\n",
        "    return loss\n",
        "\n",
        "def softmax_derivative(y_true, y_pred):\n",
        "    n_samples = y_true.shape[0]\n",
        "    y_pred[range(n_samples), y_true] -= 1\n",
        "    return y_pred / n_samples\n",
        "\n",
        "class NeuralNetwork:\n",
        "    def __init__(self, input_size, hidden_size, output_size):\n",
        "        self.W1 = np.random.randn(input_size, hidden_size) * 0.01\n",
        "        self.b1 = np.zeros((1, hidden_size))\n",
        "        self.W2 = np.random.randn(hidden_size, output_size) * 0.01\n",
        "        self.b2 = np.zeros((1, output_size))\n",
        "\n",
        "    def forward(self, X):\n",
        "        self.Z1 = np.dot(X, self.W1) + self.b1\n",
        "        self.A1 = relu(self.Z1)\n",
        "        self.Z2 = np.dot(self.A1, self.W2) + self.b2\n",
        "        self.A2 = softmax(self.Z2)\n",
        "        return self.A2\n",
        "\n",
        "    def backward(self, X, y_true, y_pred, learning_rate=0.01):\n",
        "        n_samples = X.shape[0]\n",
        "\n",
        "        dZ2 = softmax_derivative(y_true, y_pred)\n",
        "        dW2 = np.dot(self.A1.T, dZ2)\n",
        "        db2 = np.sum(dZ2, axis=0, keepdims=True)\n",
        "\n",
        "        dA1 = np.dot(dZ2, self.W2.T)\n",
        "        dZ1 = dA1 * relu_derivative(self.Z1)\n",
        "        dW1 = np.dot(X.T, dZ1)\n",
        "        db1 = np.sum(dZ1, axis=0, keepdims=True)\n",
        "\n",
        "        self.W1 -= learning_rate * dW1\n",
        "        self.b1 -= learning_rate * db1\n",
        "        self.W2 -= learning_rate * dW2\n",
        "        self.b2 -= learning_rate * db2\n",
        "\n",
        "    def train(self, X, y, epochs=60, learning_rate=0.01):\n",
        "        for epoch in range(epochs):\n",
        "            # Forward propagation\n",
        "            y_pred = self.forward(X)\n",
        "\n",
        "            # Compute loss\n",
        "            loss = cross_entropy_loss(y, y_pred)\n",
        "            print(f'Epoch {epoch + 1}/{epochs}, Loss: {loss}')\n",
        "\n",
        "            # Backward propagation\n",
        "            self.backward(X, y, y_pred, learning_rate)\n",
        "\n",
        "    def predict(self, X):\n",
        "        y_pred = self.forward(X)\n",
        "        return np.argmax(y_pred, axis=1)\n",
        "\n",
        "input_size = tfidf_X_train.shape[1]\n",
        "hidden_size = 128\n",
        "output_size = 3\n",
        "learning_rate = 0.01\n",
        "epochs = 200\n",
        "\n",
        "X_train = tfidf_X_train.toarray()\n",
        "\n",
        "nn = NeuralNetwork(input_size, hidden_size, output_size)\n",
        "\n",
        "# nn.train(X_train, y_train_encoded, epochs=epochs, learning_rate=learning_rate)\n",
        "\n",
        "X_test = tfidf_X_test.toarray()\n",
        "y_test_pred = nn.predict(X_test)\n"
      ],
      "metadata": {
        "id": "1XlnoldXqLGc"
      },
      "execution_count": null,
      "outputs": []
    },
    {
      "cell_type": "code",
      "source": [
        "def predict_review_sentiment(review):\n",
        "    review_tfidf = tfidf_vectorizer.transform([review]).toarray()\n",
        "\n",
        "    prediction = nn.predict(review_tfidf)\n",
        "\n",
        "    sentiment_map = {0: 'negative', 1: 'neutral', 2: 'positive'}\n",
        "    predicted_sentiment = sentiment_map[prediction[0]]\n",
        "\n",
        "    return predicted_sentiment\n",
        "\n",
        "new_review = \"waste of money\"\n",
        "predicted_sentiment = predict_review_sentiment(new_review)\n",
        "print(f'Predicted sentiment: {predicted_sentiment}')\n"
      ],
      "metadata": {
        "colab": {
          "base_uri": "https://localhost:8080/"
        },
        "id": "raXg14RkqLEh",
        "outputId": "a668a742-bcf3-44e8-f693-7370c33ad6d4"
      },
      "execution_count": null,
      "outputs": [
        {
          "output_type": "stream",
          "name": "stdout",
          "text": [
            "Predicted sentiment: positive\n"
          ]
        }
      ]
    },
    {
      "cell_type": "code",
      "source": [],
      "metadata": {
        "id": "IeuSJ4_7qLCn"
      },
      "execution_count": null,
      "outputs": []
    },
    {
      "cell_type": "code",
      "source": [
        "import torch\n",
        "import torch.nn as nn\n",
        "import torch.optim as optim\n",
        "import numpy as np\n",
        "\n",
        "class NeuralNetwork(nn.Module):\n",
        "    def __init__(self, input_size, hidden_size, output_size):\n",
        "        super(NeuralNetwork, self).__init__()\n",
        "        self.fc1 = nn.Linear(input_size, hidden_size)\n",
        "        self.relu = nn.ReLU()\n",
        "        self.fc2 = nn.Linear(hidden_size, output_size)\n",
        "        self.softmax = nn.Softmax(dim=1)\n",
        "\n",
        "    def forward(self, X):\n",
        "        out = self.fc1(X)\n",
        "        out = self.relu(out)\n",
        "        out = self.fc2(out)\n",
        "        out = self.softmax(out)\n",
        "        return out\n",
        "\n",
        "def train(model, X_train, y_train, epochs=2, learning_rate=0.01):\n",
        "    criterion = nn.CrossEntropyLoss()\n",
        "    optimizer = optim.Adam(model.parameters(), lr=learning_rate)\n",
        "\n",
        "    for epoch in range(epochs):\n",
        "        model.train()\n",
        "\n",
        "        inputs = torch.tensor(X_train, dtype=torch.float32)\n",
        "        labels = torch.tensor(y_train, dtype=torch.long)\n",
        "\n",
        "        optimizer.zero_grad()\n",
        "\n",
        "        outputs = model(inputs)\n",
        "\n",
        "        loss = criterion(outputs, labels)\n",
        "\n",
        "        loss.backward()\n",
        "        optimizer.step()\n",
        "\n",
        "        print(f'Epoch {epoch+1}/{epochs}, Loss: {loss.item()}')\n",
        "\n",
        "def predict(model, X_test):\n",
        "    model.eval()\n",
        "    inputs = torch.tensor(X_test, dtype=torch.float32)\n",
        "    outputs = model(inputs)\n",
        "    _, predicted = torch.max(outputs, 1)\n",
        "    return predicted.numpy()\n",
        "\n",
        "input_size = tfidf_X_train.shape[1]\n",
        "print(\"input_shape: \", input_size)\n",
        "hidden_size = 128\n",
        "output_size = 3\n",
        "learning_rate = 0.01\n",
        "epochs = 70\n",
        "\n",
        "X_train = tfidf_X_train.toarray()\n",
        "X_test = tfidf_X_test.toarray()\n",
        "\n",
        "model = NeuralNetwork(input_size, hidden_size, output_size)\n",
        "\n",
        "train(model, X_train, y_train_encoded, epochs=epochs, learning_rate=learning_rate)\n",
        "\n",
        "y_test_pred = predict(model, X_test)\n",
        "\n",
        "torch.save(model, 'best_model.pth')\n"
      ],
      "metadata": {
        "colab": {
          "base_uri": "https://localhost:8080/"
        },
        "id": "7E30SFuaqLAb",
        "outputId": "7d35ff53-4582-4869-a51a-e686ba9d0513"
      },
      "execution_count": null,
      "outputs": [
        {
          "output_type": "stream",
          "name": "stdout",
          "text": [
            "input_shape:  4140\n",
            "Epoch 1/70, Loss: 1.0936442613601685\n",
            "Epoch 2/70, Loss: 1.0705082416534424\n",
            "Epoch 3/70, Loss: 1.0405011177062988\n",
            "Epoch 4/70, Loss: 1.0008293390274048\n",
            "Epoch 5/70, Loss: 0.9540904760360718\n",
            "Epoch 6/70, Loss: 0.905103862285614\n",
            "Epoch 7/70, Loss: 0.8595219850540161\n",
            "Epoch 8/70, Loss: 0.8217560648918152\n",
            "Epoch 9/70, Loss: 0.7936860918998718\n",
            "Epoch 10/70, Loss: 0.7744150757789612\n",
            "Epoch 11/70, Loss: 0.7612735033035278\n",
            "Epoch 12/70, Loss: 0.7512497305870056\n",
            "Epoch 13/70, Loss: 0.7418918609619141\n",
            "Epoch 14/70, Loss: 0.7316285371780396\n",
            "Epoch 15/70, Loss: 0.7199341058731079\n",
            "Epoch 16/70, Loss: 0.7072978615760803\n",
            "Epoch 17/70, Loss: 0.6947413682937622\n",
            "Epoch 18/70, Loss: 0.6832599639892578\n",
            "Epoch 19/70, Loss: 0.6737440228462219\n",
            "Epoch 20/70, Loss: 0.6667827367782593\n",
            "Epoch 21/70, Loss: 0.6625456809997559\n",
            "Epoch 22/70, Loss: 0.6606137156486511\n",
            "Epoch 23/70, Loss: 0.6596564054489136\n",
            "Epoch 24/70, Loss: 0.6582216024398804\n",
            "Epoch 25/70, Loss: 0.655468761920929\n",
            "Epoch 26/70, Loss: 0.6514127850532532\n",
            "Epoch 27/70, Loss: 0.6466026306152344\n",
            "Epoch 28/70, Loss: 0.6416470408439636\n",
            "Epoch 29/70, Loss: 0.6369693279266357\n",
            "Epoch 30/70, Loss: 0.6327441334724426\n",
            "Epoch 31/70, Loss: 0.6290075778961182\n",
            "Epoch 32/70, Loss: 0.6257848739624023\n",
            "Epoch 33/70, Loss: 0.6230742335319519\n",
            "Epoch 34/70, Loss: 0.620815634727478\n",
            "Epoch 35/70, Loss: 0.6188826560974121\n",
            "Epoch 36/70, Loss: 0.6169847846031189\n",
            "Epoch 37/70, Loss: 0.6148839592933655\n",
            "Epoch 38/70, Loss: 0.6126183867454529\n",
            "Epoch 39/70, Loss: 0.6104466319084167\n",
            "Epoch 40/70, Loss: 0.6086092591285706\n",
            "Epoch 41/70, Loss: 0.6071876287460327\n",
            "Epoch 42/70, Loss: 0.606116771697998\n",
            "Epoch 43/70, Loss: 0.6052681803703308\n",
            "Epoch 44/70, Loss: 0.604519784450531\n",
            "Epoch 45/70, Loss: 0.6037812829017639\n",
            "Epoch 46/70, Loss: 0.6030189990997314\n",
            "Epoch 47/70, Loss: 0.6022341251373291\n",
            "Epoch 48/70, Loss: 0.6014513373374939\n",
            "Epoch 49/70, Loss: 0.6006946563720703\n",
            "Epoch 50/70, Loss: 0.5999817252159119\n",
            "Epoch 51/70, Loss: 0.5993276238441467\n",
            "Epoch 52/70, Loss: 0.5987457036972046\n",
            "Epoch 53/70, Loss: 0.5982421040534973\n",
            "Epoch 54/70, Loss: 0.59781414270401\n",
            "Epoch 55/70, Loss: 0.5974392294883728\n",
            "Epoch 56/70, Loss: 0.5970933437347412\n",
            "Epoch 57/70, Loss: 0.5967587232589722\n",
            "Epoch 58/70, Loss: 0.5964322090148926\n",
            "Epoch 59/70, Loss: 0.5961217284202576\n",
            "Epoch 60/70, Loss: 0.5958341956138611\n",
            "Epoch 61/70, Loss: 0.5955736041069031\n",
            "Epoch 62/70, Loss: 0.5953394770622253\n",
            "Epoch 63/70, Loss: 0.5951303243637085\n",
            "Epoch 64/70, Loss: 0.5949448347091675\n",
            "Epoch 65/70, Loss: 0.5947834253311157\n",
            "Epoch 66/70, Loss: 0.5946477055549622\n",
            "Epoch 67/70, Loss: 0.5945348739624023\n",
            "Epoch 68/70, Loss: 0.5944330096244812\n",
            "Epoch 69/70, Loss: 0.5943314433097839\n",
            "Epoch 70/70, Loss: 0.5942252278327942\n"
          ]
        }
      ]
    },
    {
      "cell_type": "code",
      "source": [
        "label_mapping = {\n",
        "    0: 'negative',\n",
        "    1: 'neutral',\n",
        "    2: 'positive'\n",
        "}\n"
      ],
      "metadata": {
        "id": "yVAiM6Di0WRp"
      },
      "execution_count": null,
      "outputs": []
    },
    {
      "cell_type": "code",
      "source": [
        "def predict_review(review):\n",
        "    review_tfidf = tfidf_vectorizer.transform([review]).toarray()\n",
        "\n",
        "    model.eval()\n",
        "    with torch.no_grad():\n",
        "        inputs = torch.tensor(review_tfidf, dtype=torch.float32)\n",
        "        outputs = model(inputs)\n",
        "        _, predicted = torch.max(outputs, 1)\n",
        "    probabilities = torch.softmax(outputs, dim=1).squeeze().numpy()\n",
        "\n",
        "    predicted_label = predicted.item()\n",
        "    return predicted_label, probabilities\n",
        "\n",
        "review = \"This product is waste of money.\"\n",
        "predicted_label, probabilities = predict_review(review)\n",
        "print(f'The review sentiment is: {label_mapping[predicted_label]}')\n",
        "print(f'Probabilities of each class: {probabilities}')\n"
      ],
      "metadata": {
        "colab": {
          "base_uri": "https://localhost:8080/"
        },
        "id": "EsgPgRoGqK94",
        "outputId": "f624c8eb-a6ec-4109-ddaf-6eacaa7c97e2"
      },
      "execution_count": null,
      "outputs": [
        {
          "output_type": "stream",
          "name": "stdout",
          "text": [
            "The review sentiment is: negative\n",
            "Probabilities of each class: [0.5759976  0.21200243 0.21199994]\n"
          ]
        }
      ]
    },
    {
      "cell_type": "code",
      "source": [
        "test_reviews = reviews = [\n",
        "    \"I absolutely loved this product! It exceeded my expectations in every way.\",\n",
        "    \"The customer service was fantastic, and the item arrived earlier than expected. Highly recommend!\",\n",
        "    \"Excellent quality and great value for money. Will definitely purchase again.\",\n",
        "    \"The product is okay, but it didn't stand out in any way.\",\n",
        "    \"Received the item as described, but the delivery took a bit longer than expected.\",\n",
        "    \"The product works fine, but I had issues with the installation.\",\n",
        "    \"Terrible experience. The product broke after one use and customer service was unhelpful.\",\n",
        "    \"The item did not match the description at all. Very disappointed with the quality.\",\n",
        "    \"It was a complete waste of money. The product did not perform as advertised and I regret buying it.\",\n",
        "    \"The product arrived on time and was well-packaged, but it didn't meet my expectations.\",\n",
        "    \"Great purchase! The product is exactly as described and works perfectly.\",\n",
        "    \"The quality of the product is subpar, and I had issues with the customer service.\",\n",
        "    \"Not worth the price. The product is mediocre and doesn't live up to the hype.\",\n",
        "    \"Fantastic value for money. The product is well-made and performs well.\",\n",
        "    \"The product broke down after a week of use. Very disappointed.\",\n",
        "    \"Good product, but the customer service experience was lacking.\",\n",
        "    \"The item was good but had a minor defect. It still works fine though.\",\n",
        "    \"I was expecting more based on the reviews. The product is just average.\",\n",
        "    \"Excellent product with fast delivery. I will definitely buy again.\"\n",
        "]\n",
        "\n",
        "\n",
        "for review in test_reviews:\n",
        "    predicted_label, probabilities = predict_review(review)\n",
        "    print(f'The review sentiment is: {label_mapping[predicted_label]}')\n",
        "    print(f'Probabilities of each class: {probabilities}')\n",
        "    print()"
      ],
      "metadata": {
        "colab": {
          "base_uri": "https://localhost:8080/"
        },
        "id": "0Y89J_M4qK7f",
        "outputId": "dd1d6e53-952b-4c42-fe5c-9d7751d379d7"
      },
      "execution_count": null,
      "outputs": [
        {
          "output_type": "stream",
          "name": "stdout",
          "text": [
            "The review sentiment is: positive\n",
            "Probabilities of each class: [0.21194398 0.21194571 0.57611024]\n",
            "\n",
            "The review sentiment is: positive\n",
            "Probabilities of each class: [0.21195236 0.21194732 0.57610035]\n",
            "\n",
            "The review sentiment is: positive\n",
            "Probabilities of each class: [0.2119416 0.2119416 0.5761168]\n",
            "\n",
            "The review sentiment is: positive\n",
            "Probabilities of each class: [0.21786188 0.23621607 0.5459221 ]\n",
            "\n",
            "The review sentiment is: positive\n",
            "Probabilities of each class: [0.21194428 0.2119514  0.5761043 ]\n",
            "\n",
            "The review sentiment is: positive\n",
            "Probabilities of each class: [0.21218695 0.21241054 0.5754025 ]\n",
            "\n",
            "The review sentiment is: negative\n",
            "Probabilities of each class: [0.574945   0.21281545 0.21223956]\n",
            "\n",
            "The review sentiment is: negative\n",
            "Probabilities of each class: [0.52027535 0.25337267 0.22635196]\n",
            "\n",
            "The review sentiment is: negative\n",
            "Probabilities of each class: [0.57611614 0.21194205 0.21194173]\n",
            "\n",
            "The review sentiment is: positive\n",
            "Probabilities of each class: [0.2164635  0.21317959 0.57035685]\n",
            "\n",
            "The review sentiment is: positive\n",
            "Probabilities of each class: [0.21194156 0.21194156 0.57611686]\n",
            "\n",
            "The review sentiment is: negative\n",
            "Probabilities of each class: [0.574316   0.21255866 0.2131254 ]\n",
            "\n",
            "The review sentiment is: neutral\n",
            "Probabilities of each class: [0.2542476  0.5223422  0.22341023]\n",
            "\n",
            "The review sentiment is: positive\n",
            "Probabilities of each class: [0.21197289 0.21196958 0.57605755]\n",
            "\n",
            "The review sentiment is: neutral\n",
            "Probabilities of each class: [0.24683505 0.5331162  0.22004874]\n",
            "\n",
            "The review sentiment is: positive\n",
            "Probabilities of each class: [0.21260566 0.21223956 0.5751548 ]\n",
            "\n",
            "The review sentiment is: positive\n",
            "Probabilities of each class: [0.21208835 0.21231739 0.5755943 ]\n",
            "\n",
            "The review sentiment is: neutral\n",
            "Probabilities of each class: [0.21198013 0.5760335  0.21198642]\n",
            "\n",
            "The review sentiment is: positive\n",
            "Probabilities of each class: [0.21194172 0.21194203 0.5761162 ]\n",
            "\n"
          ]
        }
      ]
    },
    {
      "cell_type": "code",
      "source": [],
      "metadata": {
        "id": "P3J5vmTZqK5Q"
      },
      "execution_count": null,
      "outputs": []
    },
    {
      "cell_type": "code",
      "source": [],
      "metadata": {
        "id": "tuY-eLvSxf3Y"
      },
      "execution_count": null,
      "outputs": []
    },
    {
      "cell_type": "code",
      "source": [],
      "metadata": {
        "id": "pgUg2KXdxf0g"
      },
      "execution_count": null,
      "outputs": []
    },
    {
      "cell_type": "code",
      "source": [],
      "metadata": {
        "id": "yJg51NHkxfon"
      },
      "execution_count": null,
      "outputs": []
    },
    {
      "cell_type": "markdown",
      "source": [
        "#Analysis using machile Learning"
      ],
      "metadata": {
        "id": "1dC8JvUjRGK2"
      }
    },
    {
      "cell_type": "code",
      "source": [
        "def train_and_eval(model, trainX, trainY, testX, testY):\n",
        "    # Training\n",
        "    model.fit(trainX, trainY)\n",
        "\n",
        "    # Predictions\n",
        "    y_preds_train = model.predict(trainX)\n",
        "    y_preds_test = model.predict(testX)\n",
        "\n",
        "    # Evaluation\n",
        "    print(f\"Model: {model}\")\n",
        "    print(f\"Train accuracy score: {accuracy_score(trainY, y_preds_train)}\")\n",
        "    print(f\"Test accuracy score: {accuracy_score(testY, y_preds_test)}\")"
      ],
      "metadata": {
        "id": "6oIYL2kPviLr"
      },
      "execution_count": null,
      "outputs": []
    },
    {
      "cell_type": "code",
      "source": [
        "# List of hyperparameters to try\n",
        "C_values = [0.001, 0.01, 0.1, 1, 10]\n",
        "\n",
        "# Iterate over the list of hyperparameters\n",
        "for C in C_values:\n",
        "    # Define the model with the current hyperparameter\n",
        "    log_model = LogisticRegression(C=C, max_iter=500, random_state=1)\n",
        "\n",
        "    # Train and evaluate the model\n",
        "    train_and_eval(\n",
        "        model=log_model,\n",
        "        trainX=bow_X_train,  # or tfidf_X_train if using TF-IDF features\n",
        "        trainY=y_train,\n",
        "        testX=bow_X_test,   # or tfidf_X_test if using TF-IDF features\n",
        "        testY=y_test\n",
        "    )"
      ],
      "metadata": {
        "colab": {
          "base_uri": "https://localhost:8080/"
        },
        "id": "aBoUu_PawBTe",
        "outputId": "69a4be87-a2ce-44c6-85ba-1eca8084bd7a"
      },
      "execution_count": null,
      "outputs": [
        {
          "output_type": "stream",
          "name": "stdout",
          "text": [
            "Model: LogisticRegression(C=0.001, max_iter=500, random_state=1)\n",
            "Train accuracy score: 0.7697916666666667\n",
            "Test accuracy score: 0.7675\n",
            "Model: LogisticRegression(C=0.01, max_iter=500, random_state=1)\n",
            "Train accuracy score: 0.8127083333333334\n",
            "Test accuracy score: 0.7983333333333333\n",
            "Model: LogisticRegression(C=0.1, max_iter=500, random_state=1)\n",
            "Train accuracy score: 0.88\n",
            "Test accuracy score: 0.8425\n",
            "Model: LogisticRegression(C=1, max_iter=500, random_state=1)\n",
            "Train accuracy score: 0.9366666666666666\n",
            "Test accuracy score: 0.8641666666666666\n",
            "Model: LogisticRegression(C=10, max_iter=500, random_state=1)\n",
            "Train accuracy score: 0.95875\n",
            "Test accuracy score: 0.8558333333333333\n"
          ]
        }
      ]
    },
    {
      "cell_type": "code",
      "source": [
        "C_values = [0.001, 0.01, 0.1, 1, 10]\n",
        "\n",
        "for C in C_values:\n",
        "    log_model = LogisticRegression(C=C, max_iter=500, random_state=1)\n",
        "\n",
        "    train_and_eval(\n",
        "        model=log_model,\n",
        "        trainX=tfidf_X_train,  # or tfidf_X_train if using TF-IDF features\n",
        "        trainY=y_train,\n",
        "        testX=tfidf_X_test,   # or tfidf_X_test if using TF-IDF features\n",
        "        testY=y_test\n",
        "    )"
      ],
      "metadata": {
        "colab": {
          "base_uri": "https://localhost:8080/"
        },
        "id": "IRsNdGdUwEMa",
        "outputId": "696cf548-f77d-44fe-c7c6-bed0c6dc9b8d"
      },
      "execution_count": null,
      "outputs": [
        {
          "output_type": "stream",
          "name": "stdout",
          "text": [
            "Model: LogisticRegression(C=0.001, max_iter=500, random_state=1)\n",
            "Train accuracy score: 0.7677083333333333\n",
            "Test accuracy score: 0.7675\n",
            "Model: LogisticRegression(C=0.01, max_iter=500, random_state=1)\n",
            "Train accuracy score: 0.7677083333333333\n",
            "Test accuracy score: 0.7675\n",
            "Model: LogisticRegression(C=0.1, max_iter=500, random_state=1)\n",
            "Train accuracy score: 0.8216666666666667\n",
            "Test accuracy score: 0.8166666666666667\n",
            "Model: LogisticRegression(C=1, max_iter=500, random_state=1)\n",
            "Train accuracy score: 0.8935416666666667\n",
            "Test accuracy score: 0.8608333333333333\n",
            "Model: LogisticRegression(C=10, max_iter=500, random_state=1)\n",
            "Train accuracy score: 0.9552083333333333\n",
            "Test accuracy score: 0.8625\n"
          ]
        }
      ]
    },
    {
      "cell_type": "code",
      "source": [
        "# Initialize the LogisticRegression model with the specified hyperparameters\n",
        "bmodel = LogisticRegression(C=1, max_iter=500, random_state=1, class_weight='balanced')\n",
        "\n",
        "# Train the model\n",
        "bmodel.fit(tfidf_X_train, y_train)\n",
        "\n",
        "# Make predictions\n",
        "y_preds_train = bmodel.predict(tfidf_X_train)\n",
        "y_preds_test = bmodel.predict(tfidf_X_test)\n",
        "\n",
        "# Evaluate and print accuracy scores\n",
        "print(f\"Train accuracy score: {accuracy_score(y_train, y_preds_train)}\")\n",
        "print(f\"Test accuracy score: {accuracy_score(y_test, y_preds_test)}\")"
      ],
      "metadata": {
        "colab": {
          "base_uri": "https://localhost:8080/"
        },
        "id": "KiR6xsxUxQoU",
        "outputId": "67c1ee98-cead-4668-eded-4efa7cce2013"
      },
      "execution_count": null,
      "outputs": [
        {
          "output_type": "stream",
          "name": "stdout",
          "text": [
            "Train accuracy score: 0.8910416666666666\n",
            "Test accuracy score: 0.8216666666666667\n"
          ]
        }
      ]
    },
    {
      "cell_type": "code",
      "source": [
        "# import matplotlib.pyplot as plt\n",
        "# import seaborn as sns\n",
        "# from sklearn.metrics import confusion_matrix\n",
        "\n",
        "def plot_cm(y_true, y_pred, labels):\n",
        "    plt.figure(figsize=(6, 6))\n",
        "    cm = confusion_matrix(y_true, y_pred, normalize='true')\n",
        "    sns.heatmap(\n",
        "        cm,\n",
        "        annot=True,\n",
        "        cmap='Blues',\n",
        "        cbar=False,\n",
        "        fmt='.2f',\n",
        "        xticklabels=labels,\n",
        "        yticklabels=labels\n",
        "    )\n",
        "    plt.xlabel('Predicted Labels')\n",
        "    plt.ylabel('True Labels')\n",
        "    plt.title('Confusion Matrix')\n",
        "    plt.show()\n",
        "\n",
        "# Example usage\n",
        "labels = ['Negative', 'Neutral', 'Positive']  # Update with your actual labels\n",
        "plot_cm(y_test, y_preds_test, labels)\n"
      ],
      "metadata": {
        "colab": {
          "base_uri": "https://localhost:8080/",
          "height": 564
        },
        "id": "YT4JYoNGyLTD",
        "outputId": "9bf3fd80-6b93-4482-fe42-b5d34663c6f7"
      },
      "execution_count": null,
      "outputs": [
        {
          "output_type": "display_data",
          "data": {
            "text/plain": [
              "<Figure size 600x600 with 1 Axes>"
            ],
            "image/png": "[encoded data removed]"
          },
          "metadata": {}
        }
      ]
    },
    {
      "cell_type": "code",
      "source": [
        "# from sklearn.feature_extraction.text import TfidfVectorizer\n",
        "\n",
        "def text_preprocessor(review):\n",
        "    # Example preprocessing function (you may need to adjust this)\n",
        "    # Lowercase, remove punctuation, etc.\n",
        "    review = review.lower()\n",
        "    review = re.sub(r'<.*?>', '', review)  # Remove HTML tags\n",
        "    review = review.translate(str.maketrans('', '', string.punctuation))  # Remove punctuation\n",
        "    review = re.sub(r'\\d+', '', review)  # Remove digits\n",
        "    review = re.sub(r'\\s+', ' ', review).strip()  # Remove extra whitespace\n",
        "    return review\n",
        "\n",
        "def get_sentiment(review):\n",
        "    # Preprocess the review\n",
        "    x = text_preprocessor(review)\n",
        "\n",
        "    # Vectorization\n",
        "    x = tfidf_vectorizer.transform([x])\n",
        "\n",
        "    # Prediction\n",
        "    y = bmodel.predict(x)  # Returns an array of predictions\n",
        "    y = y[0]  # Extract the first element from the array\n",
        "    # print(y)\n",
        "    return y\n",
        "\n",
        "# Test the function with example reviews\n",
        "positive_review = \"This chips packet is very tasty. I highly recommend this!\"\n",
        "negative_review = \"This product is a waste of money\"\n",
        "\n",
        "print(f\"This is a {get_sentiment(positive_review)} review!\")\n",
        "print(f\"This is a {get_sentiment(negative_review)} review!\")\n"
      ],
      "metadata": {
        "colab": {
          "base_uri": "https://localhost:8080/"
        },
        "id": "OheoTmzEymsc",
        "outputId": "74a13d0a-52ec-4392-8955-7b7985e0c469"
      },
      "execution_count": null,
      "outputs": [
        {
          "output_type": "stream",
          "name": "stdout",
          "text": [
            "This is a Positive review!\n",
            "This is a Negative review!\n"
          ]
        }
      ]
    },
    {
      "cell_type": "code",
      "source": [
        "# Example reviews for testing\n",
        "test_reviews = reviews = [\n",
        "    \"I absolutely loved this product! It exceeded my expectations in every way.\",\n",
        "    \"The customer service was fantastic, and the item arrived earlier than expected. Highly recommend!\",\n",
        "    \"Excellent quality and great value for money. Will definitely purchase again.\",\n",
        "    \"The product is okay, but it didn't stand out in any way.\",\n",
        "    \"Received the item as described, but the delivery took a bit longer than expected.\",\n",
        "    \"The product works fine, but I had issues with the installation.\",\n",
        "    \"Terrible experience. The product broke after one use and customer service was unhelpful.\",\n",
        "    \"The item did not match the description at all. Very disappointed with the quality.\",\n",
        "    \"It was a complete waste of money. The product did not perform as advertised and I regret buying it.\",\n",
        "    \"The product arrived on time and was well-packaged, but it didn't meet my expectations.\",\n",
        "    \"Great purchase! The product is exactly as described and works perfectly.\",\n",
        "    \"The quality of the product is subpar, and I had issues with the customer service.\",\n",
        "    \"Not worth the price. The product is mediocre and doesn't live up to the hype.\",\n",
        "    \"Fantastic value for money. The product is well-made and performs well.\",\n",
        "    \"The product broke down after a week of use. Very disappointed.\",\n",
        "    \"Good product, but the customer service experience was lacking.\",\n",
        "    \"The item was good but had a minor defect. It still works fine though.\",\n",
        "    \"I was expecting more based on the reviews. The product is just average.\",\n",
        "    \"Excellent product with fast delivery. I will definitely buy again.\"\n",
        "]\n",
        "\n",
        "\n",
        "# Test the function with example reviews\n",
        "for review in test_reviews:\n",
        "    print(f\"Review: '{review}'\")\n",
        "    print(f\"Sentiment: {get_sentiment(review)}\")\n",
        "    print()\n"
      ],
      "metadata": {
        "colab": {
          "base_uri": "https://localhost:8080/"
        },
        "id": "apOSfRmjzEVR",
        "outputId": "037bfdd6-f1a7-4809-f833-ad4374785907"
      },
      "execution_count": null,
      "outputs": [
        {
          "output_type": "stream",
          "name": "stdout",
          "text": [
            "Review: 'I absolutely loved this product! It exceeded my expectations in every way.'\n",
            "Sentiment: Positive\n",
            "\n",
            "Review: 'The customer service was fantastic, and the item arrived earlier than expected. Highly recommend!'\n",
            "Sentiment: Positive\n",
            "\n",
            "Review: 'Excellent quality and great value for money. Will definitely purchase again.'\n",
            "Sentiment: Positive\n",
            "\n",
            "Review: 'The product is okay, but it didn't stand out in any way.'\n",
            "Sentiment: Neutral\n",
            "\n",
            "Review: 'Received the item as described, but the delivery took a bit longer than expected.'\n",
            "Sentiment: Neutral\n",
            "\n",
            "Review: 'The product works fine, but I had issues with the installation.'\n",
            "Sentiment: Positive\n",
            "\n",
            "Review: 'Terrible experience. The product broke after one use and customer service was unhelpful.'\n",
            "Sentiment: Negative\n",
            "\n",
            "Review: 'The item did not match the description at all. Very disappointed with the quality.'\n",
            "Sentiment: Negative\n",
            "\n",
            "Review: 'It was a complete waste of money. The product did not perform as advertised and I regret buying it.'\n",
            "Sentiment: Negative\n",
            "\n",
            "Review: 'The product arrived on time and was well-packaged, but it didn't meet my expectations.'\n",
            "Sentiment: Positive\n",
            "\n",
            "Review: 'Great purchase! The product is exactly as described and works perfectly.'\n",
            "Sentiment: Positive\n",
            "\n",
            "Review: 'The quality of the product is subpar, and I had issues with the customer service.'\n",
            "Sentiment: Negative\n",
            "\n",
            "Review: 'Not worth the price. The product is mediocre and doesn't live up to the hype.'\n",
            "Sentiment: Neutral\n",
            "\n",
            "Review: 'Fantastic value for money. The product is well-made and performs well.'\n",
            "Sentiment: Positive\n",
            "\n",
            "Review: 'The product broke down after a week of use. Very disappointed.'\n",
            "Sentiment: Negative\n",
            "\n",
            "Review: 'Good product, but the customer service experience was lacking.'\n",
            "Sentiment: Positive\n",
            "\n",
            "Review: 'The item was good but had a minor defect. It still works fine though.'\n",
            "Sentiment: Positive\n",
            "\n",
            "Review: 'I was expecting more based on the reviews. The product is just average.'\n",
            "Sentiment: Neutral\n",
            "\n",
            "Review: 'Excellent product with fast delivery. I will definitely buy again.'\n",
            "Sentiment: Positive\n",
            "\n"
          ]
        }
      ]
    },
    {
      "cell_type": "code",
      "source": [
        "# Check the distribution of predictions\n",
        "print(pd.Series(y_preds_test).value_counts())\n"
      ],
      "metadata": {
        "colab": {
          "base_uri": "https://localhost:8080/"
        },
        "id": "pHXaJI5y3TRO",
        "outputId": "1d7d942c-d62d-47f3-f513-4e6507b402dc"
      },
      "execution_count": null,
      "outputs": [
        {
          "output_type": "stream",
          "name": "stdout",
          "text": [
            "Positive    853\n",
            "Negative    198\n",
            "Neutral     149\n",
            "Name: count, dtype: int64\n"
          ]
        }
      ]
    },
    {
      "cell_type": "code",
      "source": [
        "import pickle\n",
        "\n",
        "# Save the model\n",
        "with open('/content/bmodel.pkl', 'wb') as file:\n",
        "    pickle.dump(bmodel, file)\n"
      ],
      "metadata": {
        "id": "mxaas5ox1OT0"
      },
      "execution_count": null,
      "outputs": []
    },
    {
      "cell_type": "code",
      "source": [
        "from google.colab import files\n",
        "\n",
        "# Download the model\n",
        "files.download('/content/bmodel.pkl')\n"
      ],
      "metadata": {
        "colab": {
          "base_uri": "https://localhost:8080/",
          "height": 17
        },
        "id": "RQdOGP0y1PFM",
        "outputId": "42d9d712-9913-4c79-d921-351eba6609d6"
      },
      "execution_count": null,
      "outputs": [
        {
          "output_type": "display_data",
          "data": {
            "text/plain": [
              "<IPython.core.display.Javascript object>"
            ],
            "application/javascript": [
              "\n",
              "    async function download(id, filename, size) {\n",
              "      if (!google.colab.kernel.accessAllowed) {\n",
              "        return;\n",
              "      }\n",
              "      const div = document.createElement('div');\n",
              "      const label = document.createElement('label');\n",
              "      label.textContent = `Downloading \"${filename}\": `;\n",
              "      div.appendChild(label);\n",
              "      const progress = document.createElement('progress');\n",
              "      progress.max = size;\n",
              "      div.appendChild(progress);\n",
              "      document.body.appendChild(div);\n",
              "\n",
              "      const buffers = [];\n",
              "      let downloaded = 0;\n",
              "\n",
              "      const channel = await google.colab.kernel.comms.open(id);\n",
              "      // Send a message to notify the kernel that we're ready.\n",
              "      channel.send({})\n",
              "\n",
              "      for await (const message of channel.messages) {\n",
              "        // Send a message to notify the kernel that we're ready.\n",
              "        channel.send({})\n",
              "        if (message.buffers) {\n",
              "          for (const buffer of message.buffers) {\n",
              "            buffers.push(buffer);\n",
              "            downloaded += buffer.byteLength;\n",
              "            progress.value = downloaded;\n",
              "          }\n",
              "        }\n",
              "      }\n",
              "      const blob = new Blob(buffers, {type: 'application/binary'});\n",
              "      const a = document.createElement('a');\n",
              "      a.href = window.URL.createObjectURL(blob);\n",
              "      a.download = filename;\n",
              "      div.appendChild(a);\n",
              "      a.click();\n",
              "      div.remove();\n",
              "    }\n",
              "  "
            ]
          },
          "metadata": {}
        },
        {
          "output_type": "display_data",
          "data": {
            "text/plain": [
              "<IPython.core.display.Javascript object>"
            ],
            "application/javascript": [
              "download(\"download_10b88527-4478-401b-8fc6-e3aa83bd660c\", \"bmodel.pkl\", 100128)"
            ]
          },
          "metadata": {}
        }
      ]
    },
    {
      "cell_type": "code",
      "source": [
        "import pickle\n",
        "\n",
        "# Save the TfidfVectorizer\n",
        "with open('tfidf_vectorizer.pkl', 'wb') as f:\n",
        "    pickle.dump(tfidf_vectorizer, f)\n"
      ],
      "metadata": {
        "id": "S4pxqs841j9R"
      },
      "execution_count": null,
      "outputs": []
    },
    {
      "cell_type": "code",
      "source": [
        "from flask import Flask, request, jsonify\n",
        "from sklearn.feature_extraction.text import TfidfVectorizer\n",
        "import pickle\n",
        "import re\n",
        "import string\n",
        "\n",
        "app = Flask(__name__)\n",
        "\n",
        "def text_preprocessor(review):\n",
        "    review = review.lower()\n",
        "    review = re.sub(r'<.*?>', '', review)  # Remove HTML tags\n",
        "    review = review.translate(str.maketrans('', '', string.punctuation))  # Remove punctuation\n",
        "    review = re.sub(r'\\d+', '', review)  # Remove digits\n",
        "    review = re.sub(r'\\s+', ' ', review).strip()  # Remove extra whitespace\n",
        "    return review\n",
        "\n",
        "def get_sentiment(review):\n",
        "    x = text_preprocessor(review)\n",
        "    x = tfidf_vectorizer.transform([x])\n",
        "    y = bmodel.predict(x)\n",
        "    return y[0]  # Assuming model returns a label directly\n",
        "\n",
        "@app.route('/analyze_sentiment', methods=['POST'])\n",
        "def analyze_sentiment():\n",
        "    data = request.json\n",
        "    reviews = data.get('reviews', [])\n",
        "\n",
        "    # Initialize sentiment counters\n",
        "    sentiment_counts = {'positive': 0, 'neutral': 0, 'negative': 0}\n",
        "\n",
        "    for review in reviews:\n",
        "        sentiment = get_sentiment(review)\n",
        "        if sentiment == 0:\n",
        "            sentiment_counts['negative'] += 1\n",
        "        elif sentiment == 1:\n",
        "            sentiment_counts['neutral'] += 1\n",
        "        elif sentiment == 2:\n",
        "            sentiment_counts['positive'] += 1\n",
        "\n",
        "    return jsonify(sentiment_counts)\n",
        "\n",
        "if __name__ == '__main__':\n",
        "    app.run(host='0.0.0.0', debug=True)\n"
      ],
      "metadata": {
        "colab": {
          "base_uri": "https://localhost:8080/"
        },
        "id": "7SHd8xF27x2s",
        "outputId": "a9dd110c-0e41-42b0-8ec6-57e6e2ce5999"
      },
      "execution_count": null,
      "outputs": [
        {
          "output_type": "stream",
          "name": "stdout",
          "text": [
            " * Serving Flask app '__main__'\n",
            " * Debug mode: on\n"
          ]
        },
        {
          "output_type": "stream",
          "name": "stderr",
          "text": [
            "INFO:werkzeug:\u001b[31m\u001b[1mWARNING: This is a development server. Do not use it in a production deployment. Use a production WSGI server instead.\u001b[0m\n",
            " * Running on all addresses (0.0.0.0)\n",
            " * Running on http://127.0.0.1:5000\n",
            " * Running on http://172.28.0.12:5000\n",
            "INFO:werkzeug:\u001b[33mPress CTRL+C to quit\u001b[0m\n",
            "INFO:werkzeug: * Restarting with stat\n"
          ]
        }
      ]
    },
    {
      "cell_type": "code",
      "source": [],
      "metadata": {
        "id": "93zk6LGw7yQx"
      },
      "execution_count": null,
      "outputs": []
    }
  ]
}